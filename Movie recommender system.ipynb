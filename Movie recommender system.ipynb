{
 "cells": [
  {
   "cell_type": "code",
   "execution_count": 1,
   "id": "8416dba8",
   "metadata": {},
   "outputs": [],
   "source": [
    "from sklearn.datasets import fetch_openml\n",
    "import pandas as pd\n",
    "import numpy as np\n",
    "from sklearn.preprocessing import OneHotEncoder,StandardScaler\n",
    "from sklearn.linear_model import LogisticRegression\n",
    "from sklearn.tree import DecisionTreeClassifier\n",
    "from sklearn.compose import ColumnTransformer\n",
    "from sklearn.pipeline import Pipeline\n",
    "from sklearn.model_selection import GridSearchCV, train_test_split\n",
    "from sklearn.impute import SimpleImputer\n",
    "from sklearn.model_selection import cross_val_score\n",
    "from sklearn.neighbors import KNeighborsClassifier\n",
    "from sklearn.ensemble import VotingClassifier\n",
    "from sklearn.ensemble import RandomForestClassifier,VotingClassifier\n",
    "from sklearn.svm import SVC\n",
    "from sklearn.model_selection import RandomizedSearchCV\n",
    "from scipy.stats import uniform\n",
    "from sklearn.metrics import accuracy_score\n",
    "from scipy.stats import mode\n",
    "from sklearn.ensemble import StackingClassifier\n",
    "\n",
    "\n",
    "\n",
    "\n",
    "\n"
   ]
  },
  {
   "cell_type": "code",
   "execution_count": 2,
   "id": "f602b99b",
   "metadata": {},
   "outputs": [
    {
     "name": "stderr",
     "output_type": "stream",
     "text": [
      "C:\\Anaconda\\envs\\STAT321\\lib\\site-packages\\sklearn\\datasets\\_openml.py:932: FutureWarning: The default value of `parser` will change from `'liac-arff'` to `'auto'` in 1.4. You can set `parser='auto'` to silence this warning. Therefore, an `ImportError` will be raised from 1.4 if the dataset is dense and pandas is not installed. Note that the pandas parser may return different data types. See the Notes Section in fetch_openml's API doc for details.\n",
      "  warn(\n"
     ]
    }
   ],
   "source": [
    "X, y = fetch_openml(\"titanic\", version=1, as_frame=True, return_X_y=True)"
   ]
  },
  {
   "cell_type": "code",
   "execution_count": 74,
   "id": "9ba88920",
   "metadata": {},
   "outputs": [
    {
     "name": "stdout",
     "output_type": "stream",
     "text": [
      "<class 'pandas.core.frame.DataFrame'>\n",
      "RangeIndex: 1309 entries, 0 to 1308\n",
      "Data columns (total 13 columns):\n",
      " #   Column     Non-Null Count  Dtype   \n",
      "---  ------     --------------  -----   \n",
      " 0   pclass     1309 non-null   float64 \n",
      " 1   name       1309 non-null   object  \n",
      " 2   sex        1309 non-null   category\n",
      " 3   age        1046 non-null   float64 \n",
      " 4   sibsp      1309 non-null   float64 \n",
      " 5   parch      1309 non-null   float64 \n",
      " 6   ticket     1309 non-null   object  \n",
      " 7   fare       1308 non-null   float64 \n",
      " 8   cabin      295 non-null    object  \n",
      " 9   embarked   1307 non-null   category\n",
      " 10  boat       486 non-null    object  \n",
      " 11  body       121 non-null    object  \n",
      " 12  home.dest  745 non-null    object  \n",
      "dtypes: category(2), float64(5), object(6)\n",
      "memory usage: 115.4+ KB\n"
     ]
    }
   ],
   "source": [
    "X.info()"
   ]
  },
  {
   "cell_type": "code",
   "execution_count": 4,
   "id": "a4987f45",
   "metadata": {},
   "outputs": [
    {
     "name": "stdout",
     "output_type": "stream",
     "text": [
      "<class 'pandas.core.series.Series'>\n",
      "RangeIndex: 1309 entries, 0 to 1308\n",
      "Series name: survived\n",
      "Non-Null Count  Dtype   \n",
      "--------------  -----   \n",
      "1309 non-null   category\n",
      "dtypes: category(1)\n",
      "memory usage: 1.5 KB\n"
     ]
    }
   ],
   "source": [
    "y.info()"
   ]
  },
  {
   "cell_type": "markdown",
   "id": "c690d340",
   "metadata": {},
   "source": [
    "# Preprocessing"
   ]
  },
  {
   "cell_type": "code",
   "execution_count": 5,
   "id": "e7abeded",
   "metadata": {},
   "outputs": [
    {
     "data": {
      "text/plain": [
       "['pclass',\n",
       " 'name',\n",
       " 'sex',\n",
       " 'age',\n",
       " 'sibsp',\n",
       " 'parch',\n",
       " 'ticket',\n",
       " 'fare',\n",
       " 'cabin',\n",
       " 'embarked',\n",
       " 'boat',\n",
       " 'body',\n",
       " 'home.dest']"
      ]
     },
     "execution_count": 5,
     "metadata": {},
     "output_type": "execute_result"
    }
   ],
   "source": [
    "X.columns.tolist()"
   ]
  },
  {
   "cell_type": "code",
   "execution_count": 3,
   "id": "4902444c",
   "metadata": {},
   "outputs": [],
   "source": [
    "X = X.drop(['cabin','ticket','name',\n",
    " 'boat',\n",
    " 'body',\n",
    " 'home.dest'],axis=1)"
   ]
  },
  {
   "cell_type": "code",
   "execution_count": 7,
   "id": "a7eb37aa",
   "metadata": {},
   "outputs": [
    {
     "name": "stdout",
     "output_type": "stream",
     "text": [
      "<class 'pandas.core.frame.DataFrame'>\n",
      "RangeIndex: 1309 entries, 0 to 1308\n",
      "Data columns (total 7 columns):\n",
      " #   Column    Non-Null Count  Dtype   \n",
      "---  ------    --------------  -----   \n",
      " 0   pclass    1309 non-null   float64 \n",
      " 1   sex       1309 non-null   category\n",
      " 2   age       1046 non-null   float64 \n",
      " 3   sibsp     1309 non-null   float64 \n",
      " 4   parch     1309 non-null   float64 \n",
      " 5   fare      1308 non-null   float64 \n",
      " 6   embarked  1307 non-null   category\n",
      "dtypes: category(2), float64(5)\n",
      "memory usage: 54.1 KB\n"
     ]
    }
   ],
   "source": [
    "X.info()"
   ]
  },
  {
   "cell_type": "code",
   "execution_count": 8,
   "id": "61b78958",
   "metadata": {},
   "outputs": [
    {
     "data": {
      "text/plain": [
       "0"
      ]
     },
     "execution_count": 8,
     "metadata": {},
     "output_type": "execute_result"
    }
   ],
   "source": [
    "X['pclass'].isna().sum()"
   ]
  },
  {
   "cell_type": "code",
   "execution_count": 9,
   "id": "54a2f018",
   "metadata": {},
   "outputs": [
    {
     "data": {
      "text/plain": [
       "0"
      ]
     },
     "execution_count": 9,
     "metadata": {},
     "output_type": "execute_result"
    }
   ],
   "source": [
    "X['sex'].isna().sum()"
   ]
  },
  {
   "cell_type": "code",
   "execution_count": 10,
   "id": "cd7505e4",
   "metadata": {},
   "outputs": [
    {
     "data": {
      "text/plain": [
       "263"
      ]
     },
     "execution_count": 10,
     "metadata": {},
     "output_type": "execute_result"
    }
   ],
   "source": [
    "X['age'].isna().sum()"
   ]
  },
  {
   "cell_type": "code",
   "execution_count": 11,
   "id": "699e9708",
   "metadata": {},
   "outputs": [
    {
     "data": {
      "text/plain": [
       "0"
      ]
     },
     "execution_count": 11,
     "metadata": {},
     "output_type": "execute_result"
    }
   ],
   "source": [
    "X['sibsp'].isna().sum()"
   ]
  },
  {
   "cell_type": "code",
   "execution_count": 12,
   "id": "22562f99",
   "metadata": {},
   "outputs": [
    {
     "data": {
      "text/plain": [
       "0"
      ]
     },
     "execution_count": 12,
     "metadata": {},
     "output_type": "execute_result"
    }
   ],
   "source": [
    "X['parch'].isna().sum()"
   ]
  },
  {
   "cell_type": "code",
   "execution_count": 13,
   "id": "95cc394a",
   "metadata": {},
   "outputs": [
    {
     "data": {
      "text/plain": [
       "1"
      ]
     },
     "execution_count": 13,
     "metadata": {},
     "output_type": "execute_result"
    }
   ],
   "source": [
    "X['fare'].isna().sum()"
   ]
  },
  {
   "cell_type": "code",
   "execution_count": 14,
   "id": "3a57d009",
   "metadata": {},
   "outputs": [
    {
     "data": {
      "text/plain": [
       "2"
      ]
     },
     "execution_count": 14,
     "metadata": {},
     "output_type": "execute_result"
    }
   ],
   "source": [
    "X['embarked'].isna().sum()"
   ]
  },
  {
   "cell_type": "code",
   "execution_count": 4,
   "id": "db4e22ca",
   "metadata": {},
   "outputs": [],
   "source": [
    "X['pclass'] = X['pclass'].astype('category')"
   ]
  },
  {
   "cell_type": "code",
   "execution_count": 5,
   "id": "14a7415b",
   "metadata": {},
   "outputs": [],
   "source": [
    "numV =['age','fare','parch','sibsp']\n",
    "catV =['pclass','sex','embarked']"
   ]
  },
  {
   "cell_type": "code",
   "execution_count": 6,
   "id": "c4267d69",
   "metadata": {},
   "outputs": [],
   "source": [
    "numPipe = Pipeline(\n",
    "steps =[('NumImpute',SimpleImputer(strategy=\"median\")),('numStd',StandardScaler())])"
   ]
  },
  {
   "cell_type": "code",
   "execution_count": 7,
   "id": "ae87cf00",
   "metadata": {},
   "outputs": [],
   "source": [
    "catPipe = Pipeline(\n",
    "steps =[('CatImpute',SimpleImputer(strategy=\"most_frequent\"),),('Catohe',OneHotEncoder(drop='first'))]\n",
    ")"
   ]
  },
  {
   "cell_type": "code",
   "execution_count": 8,
   "id": "672f8b89",
   "metadata": {},
   "outputs": [],
   "source": [
    "processData = ColumnTransformer(\n",
    "    transformers =[('numPipe',numPipe,numV),('catPipe',catPipe,catV)]\n",
    ")"
   ]
  },
  {
   "cell_type": "markdown",
   "id": "45fe7cad",
   "metadata": {},
   "source": [
    "## KNN-preprocessing"
   ]
  },
  {
   "cell_type": "code",
   "execution_count": 9,
   "id": "c0b87cf6",
   "metadata": {},
   "outputs": [],
   "source": [
    "\n",
    "# Convert categorical variables to integers\n",
    "X[\"sex\"] = X[\"sex\"].map({\"male\": 0, \"female\": 1})\n",
    "X[\"embarked\"] = X[\"embarked\"].map({\"S\": 0, \"C\": 1, \"Q\": 2})\n",
    "\n",
    "\n"
   ]
  },
  {
   "cell_type": "markdown",
   "id": "0bb3613e",
   "metadata": {},
   "source": [
    "# Model Selection"
   ]
  },
  {
   "cell_type": "code",
   "execution_count": 10,
   "id": "8a99c3f2",
   "metadata": {},
   "outputs": [],
   "source": [
    "#do train test split\n",
    "X_train, X_test, y_train, y_test = train_test_split(X, y, test_size=0.2, random_state=42)\n"
   ]
  },
  {
   "cell_type": "code",
   "execution_count": 11,
   "id": "5aafac8e",
   "metadata": {},
   "outputs": [],
   "source": [
    "#take a dataset; methods: logistic reg, DTC, KNN, SVM,random forest\n",
    "finalPipeLog = Pipeline(\n",
    "steps =[('processData',processData),('trn',LogisticRegression())])"
   ]
  },
  {
   "cell_type": "code",
   "execution_count": 12,
   "id": "d2825242",
   "metadata": {},
   "outputs": [
    {
     "data": {
      "text/plain": [
       "0.745619495008808"
      ]
     },
     "execution_count": 12,
     "metadata": {},
     "output_type": "execute_result"
    }
   ],
   "source": [
    "modLogAcc =cross_val_score(finalPipeLog,X,y,cv=10,scoring='accuracy')\n",
    "modLogAcc.mean()"
   ]
  },
  {
   "cell_type": "code",
   "execution_count": 13,
   "id": "d4e690bb",
   "metadata": {},
   "outputs": [
    {
     "data": {
      "text/plain": [
       "0.7748091603053435"
      ]
     },
     "execution_count": 13,
     "metadata": {},
     "output_type": "execute_result"
    }
   ],
   "source": [
    "finalPipeLog.fit(X_train,y_train).score(X_test,y_test)"
   ]
  },
  {
   "cell_type": "code",
   "execution_count": 14,
   "id": "50ce640b",
   "metadata": {},
   "outputs": [],
   "source": [
    "#Gridsearchcv\n",
    "#use gridsearchcv to find the best estimator for each of the model\n",
    "param_grid_log = {\n",
    "    'trn__penalty': ['l1', 'l2'],\n",
    "    'trn__C': [0.001, 0.01, 0.1, 1, 10, 100, 1000]\n",
    "}\n"
   ]
  },
  {
   "cell_type": "code",
   "execution_count": 15,
   "id": "10bd5b29",
   "metadata": {},
   "outputs": [],
   "source": [
    "grid_log = GridSearchCV(finalPipeLog, param_grid=param_grid_log, cv=10)"
   ]
  },
  {
   "cell_type": "code",
   "execution_count": 16,
   "id": "fe9f5462",
   "metadata": {},
   "outputs": [
    {
     "name": "stderr",
     "output_type": "stream",
     "text": [
      "C:\\Anaconda\\envs\\STAT321\\lib\\site-packages\\sklearn\\model_selection\\_validation.py:378: FitFailedWarning: \n",
      "70 fits failed out of a total of 140.\n",
      "The score on these train-test partitions for these parameters will be set to nan.\n",
      "If these failures are not expected, you can try to debug them by setting error_score='raise'.\n",
      "\n",
      "Below are more details about the failures:\n",
      "--------------------------------------------------------------------------------\n",
      "70 fits failed with the following error:\n",
      "Traceback (most recent call last):\n",
      "  File \"C:\\Anaconda\\envs\\STAT321\\lib\\site-packages\\sklearn\\model_selection\\_validation.py\", line 686, in _fit_and_score\n",
      "    estimator.fit(X_train, y_train, **fit_params)\n",
      "  File \"C:\\Anaconda\\envs\\STAT321\\lib\\site-packages\\sklearn\\pipeline.py\", line 406, in fit\n",
      "    self._final_estimator.fit(Xt, y, **fit_params_last_step)\n",
      "  File \"C:\\Anaconda\\envs\\STAT321\\lib\\site-packages\\sklearn\\linear_model\\_logistic.py\", line 1162, in fit\n",
      "    solver = _check_solver(self.solver, self.penalty, self.dual)\n",
      "  File \"C:\\Anaconda\\envs\\STAT321\\lib\\site-packages\\sklearn\\linear_model\\_logistic.py\", line 54, in _check_solver\n",
      "    raise ValueError(\n",
      "ValueError: Solver lbfgs supports only 'l2' or 'none' penalties, got l1 penalty.\n",
      "\n",
      "  warnings.warn(some_fits_failed_message, FitFailedWarning)\n",
      "C:\\Anaconda\\envs\\STAT321\\lib\\site-packages\\sklearn\\model_selection\\_search.py:953: UserWarning: One or more of the test scores are non-finite: [       nan 0.63895604        nan 0.74207875        nan 0.79554029\n",
      "        nan 0.79171245        nan 0.7917033         nan 0.7917033\n",
      "        nan 0.7917033 ]\n",
      "  warnings.warn(\n"
     ]
    },
    {
     "data": {
      "text/html": [
       "<style>#sk-container-id-1 {color: black;background-color: white;}#sk-container-id-1 pre{padding: 0;}#sk-container-id-1 div.sk-toggleable {background-color: white;}#sk-container-id-1 label.sk-toggleable__label {cursor: pointer;display: block;width: 100%;margin-bottom: 0;padding: 0.3em;box-sizing: border-box;text-align: center;}#sk-container-id-1 label.sk-toggleable__label-arrow:before {content: \"▸\";float: left;margin-right: 0.25em;color: #696969;}#sk-container-id-1 label.sk-toggleable__label-arrow:hover:before {color: black;}#sk-container-id-1 div.sk-estimator:hover label.sk-toggleable__label-arrow:before {color: black;}#sk-container-id-1 div.sk-toggleable__content {max-height: 0;max-width: 0;overflow: hidden;text-align: left;background-color: #f0f8ff;}#sk-container-id-1 div.sk-toggleable__content pre {margin: 0.2em;color: black;border-radius: 0.25em;background-color: #f0f8ff;}#sk-container-id-1 input.sk-toggleable__control:checked~div.sk-toggleable__content {max-height: 200px;max-width: 100%;overflow: auto;}#sk-container-id-1 input.sk-toggleable__control:checked~label.sk-toggleable__label-arrow:before {content: \"▾\";}#sk-container-id-1 div.sk-estimator input.sk-toggleable__control:checked~label.sk-toggleable__label {background-color: #d4ebff;}#sk-container-id-1 div.sk-label input.sk-toggleable__control:checked~label.sk-toggleable__label {background-color: #d4ebff;}#sk-container-id-1 input.sk-hidden--visually {border: 0;clip: rect(1px 1px 1px 1px);clip: rect(1px, 1px, 1px, 1px);height: 1px;margin: -1px;overflow: hidden;padding: 0;position: absolute;width: 1px;}#sk-container-id-1 div.sk-estimator {font-family: monospace;background-color: #f0f8ff;border: 1px dotted black;border-radius: 0.25em;box-sizing: border-box;margin-bottom: 0.5em;}#sk-container-id-1 div.sk-estimator:hover {background-color: #d4ebff;}#sk-container-id-1 div.sk-parallel-item::after {content: \"\";width: 100%;border-bottom: 1px solid gray;flex-grow: 1;}#sk-container-id-1 div.sk-label:hover label.sk-toggleable__label {background-color: #d4ebff;}#sk-container-id-1 div.sk-serial::before {content: \"\";position: absolute;border-left: 1px solid gray;box-sizing: border-box;top: 0;bottom: 0;left: 50%;z-index: 0;}#sk-container-id-1 div.sk-serial {display: flex;flex-direction: column;align-items: center;background-color: white;padding-right: 0.2em;padding-left: 0.2em;position: relative;}#sk-container-id-1 div.sk-item {position: relative;z-index: 1;}#sk-container-id-1 div.sk-parallel {display: flex;align-items: stretch;justify-content: center;background-color: white;position: relative;}#sk-container-id-1 div.sk-item::before, #sk-container-id-1 div.sk-parallel-item::before {content: \"\";position: absolute;border-left: 1px solid gray;box-sizing: border-box;top: 0;bottom: 0;left: 50%;z-index: -1;}#sk-container-id-1 div.sk-parallel-item {display: flex;flex-direction: column;z-index: 1;position: relative;background-color: white;}#sk-container-id-1 div.sk-parallel-item:first-child::after {align-self: flex-end;width: 50%;}#sk-container-id-1 div.sk-parallel-item:last-child::after {align-self: flex-start;width: 50%;}#sk-container-id-1 div.sk-parallel-item:only-child::after {width: 0;}#sk-container-id-1 div.sk-dashed-wrapped {border: 1px dashed gray;margin: 0 0.4em 0.5em 0.4em;box-sizing: border-box;padding-bottom: 0.4em;background-color: white;}#sk-container-id-1 div.sk-label label {font-family: monospace;font-weight: bold;display: inline-block;line-height: 1.2em;}#sk-container-id-1 div.sk-label-container {text-align: center;}#sk-container-id-1 div.sk-container {/* jupyter's `normalize.less` sets `[hidden] { display: none; }` but bootstrap.min.css set `[hidden] { display: none !important; }` so we also need the `!important` here to be able to override the default hidden behavior on the sphinx rendered scikit-learn.org. See: https://github.com/scikit-learn/scikit-learn/issues/21755 */display: inline-block !important;position: relative;}#sk-container-id-1 div.sk-text-repr-fallback {display: none;}</style><div id=\"sk-container-id-1\" class=\"sk-top-container\"><div class=\"sk-text-repr-fallback\"><pre>GridSearchCV(cv=10,\n",
       "             estimator=Pipeline(steps=[(&#x27;processData&#x27;,\n",
       "                                        ColumnTransformer(transformers=[(&#x27;numPipe&#x27;,\n",
       "                                                                         Pipeline(steps=[(&#x27;NumImpute&#x27;,\n",
       "                                                                                          SimpleImputer(strategy=&#x27;median&#x27;)),\n",
       "                                                                                         (&#x27;numStd&#x27;,\n",
       "                                                                                          StandardScaler())]),\n",
       "                                                                         [&#x27;age&#x27;,\n",
       "                                                                          &#x27;fare&#x27;,\n",
       "                                                                          &#x27;parch&#x27;,\n",
       "                                                                          &#x27;sibsp&#x27;]),\n",
       "                                                                        (&#x27;catPipe&#x27;,\n",
       "                                                                         Pipeline(steps=[(&#x27;CatImpute&#x27;,\n",
       "                                                                                          SimpleImputer(strategy=&#x27;most_frequent&#x27;)),\n",
       "                                                                                         (&#x27;Catohe&#x27;,\n",
       "                                                                                          OneHotEncoder(drop=&#x27;first&#x27;))]),\n",
       "                                                                         [&#x27;pclass&#x27;,\n",
       "                                                                          &#x27;sex&#x27;,\n",
       "                                                                          &#x27;embarked&#x27;])])),\n",
       "                                       (&#x27;trn&#x27;, LogisticRegression())]),\n",
       "             param_grid={&#x27;trn__C&#x27;: [0.001, 0.01, 0.1, 1, 10, 100, 1000],\n",
       "                         &#x27;trn__penalty&#x27;: [&#x27;l1&#x27;, &#x27;l2&#x27;]})</pre><b>In a Jupyter environment, please rerun this cell to show the HTML representation or trust the notebook. <br />On GitHub, the HTML representation is unable to render, please try loading this page with nbviewer.org.</b></div><div class=\"sk-container\" hidden><div class=\"sk-item sk-dashed-wrapped\"><div class=\"sk-label-container\"><div class=\"sk-label sk-toggleable\"><input class=\"sk-toggleable__control sk-hidden--visually\" id=\"sk-estimator-id-1\" type=\"checkbox\" ><label for=\"sk-estimator-id-1\" class=\"sk-toggleable__label sk-toggleable__label-arrow\">GridSearchCV</label><div class=\"sk-toggleable__content\"><pre>GridSearchCV(cv=10,\n",
       "             estimator=Pipeline(steps=[(&#x27;processData&#x27;,\n",
       "                                        ColumnTransformer(transformers=[(&#x27;numPipe&#x27;,\n",
       "                                                                         Pipeline(steps=[(&#x27;NumImpute&#x27;,\n",
       "                                                                                          SimpleImputer(strategy=&#x27;median&#x27;)),\n",
       "                                                                                         (&#x27;numStd&#x27;,\n",
       "                                                                                          StandardScaler())]),\n",
       "                                                                         [&#x27;age&#x27;,\n",
       "                                                                          &#x27;fare&#x27;,\n",
       "                                                                          &#x27;parch&#x27;,\n",
       "                                                                          &#x27;sibsp&#x27;]),\n",
       "                                                                        (&#x27;catPipe&#x27;,\n",
       "                                                                         Pipeline(steps=[(&#x27;CatImpute&#x27;,\n",
       "                                                                                          SimpleImputer(strategy=&#x27;most_frequent&#x27;)),\n",
       "                                                                                         (&#x27;Catohe&#x27;,\n",
       "                                                                                          OneHotEncoder(drop=&#x27;first&#x27;))]),\n",
       "                                                                         [&#x27;pclass&#x27;,\n",
       "                                                                          &#x27;sex&#x27;,\n",
       "                                                                          &#x27;embarked&#x27;])])),\n",
       "                                       (&#x27;trn&#x27;, LogisticRegression())]),\n",
       "             param_grid={&#x27;trn__C&#x27;: [0.001, 0.01, 0.1, 1, 10, 100, 1000],\n",
       "                         &#x27;trn__penalty&#x27;: [&#x27;l1&#x27;, &#x27;l2&#x27;]})</pre></div></div></div><div class=\"sk-parallel\"><div class=\"sk-parallel-item\"><div class=\"sk-item\"><div class=\"sk-label-container\"><div class=\"sk-label sk-toggleable\"><input class=\"sk-toggleable__control sk-hidden--visually\" id=\"sk-estimator-id-2\" type=\"checkbox\" ><label for=\"sk-estimator-id-2\" class=\"sk-toggleable__label sk-toggleable__label-arrow\">estimator: Pipeline</label><div class=\"sk-toggleable__content\"><pre>Pipeline(steps=[(&#x27;processData&#x27;,\n",
       "                 ColumnTransformer(transformers=[(&#x27;numPipe&#x27;,\n",
       "                                                  Pipeline(steps=[(&#x27;NumImpute&#x27;,\n",
       "                                                                   SimpleImputer(strategy=&#x27;median&#x27;)),\n",
       "                                                                  (&#x27;numStd&#x27;,\n",
       "                                                                   StandardScaler())]),\n",
       "                                                  [&#x27;age&#x27;, &#x27;fare&#x27;, &#x27;parch&#x27;,\n",
       "                                                   &#x27;sibsp&#x27;]),\n",
       "                                                 (&#x27;catPipe&#x27;,\n",
       "                                                  Pipeline(steps=[(&#x27;CatImpute&#x27;,\n",
       "                                                                   SimpleImputer(strategy=&#x27;most_frequent&#x27;)),\n",
       "                                                                  (&#x27;Catohe&#x27;,\n",
       "                                                                   OneHotEncoder(drop=&#x27;first&#x27;))]),\n",
       "                                                  [&#x27;pclass&#x27;, &#x27;sex&#x27;,\n",
       "                                                   &#x27;embarked&#x27;])])),\n",
       "                (&#x27;trn&#x27;, LogisticRegression())])</pre></div></div></div><div class=\"sk-serial\"><div class=\"sk-item\"><div class=\"sk-serial\"><div class=\"sk-item sk-dashed-wrapped\"><div class=\"sk-label-container\"><div class=\"sk-label sk-toggleable\"><input class=\"sk-toggleable__control sk-hidden--visually\" id=\"sk-estimator-id-3\" type=\"checkbox\" ><label for=\"sk-estimator-id-3\" class=\"sk-toggleable__label sk-toggleable__label-arrow\">processData: ColumnTransformer</label><div class=\"sk-toggleable__content\"><pre>ColumnTransformer(transformers=[(&#x27;numPipe&#x27;,\n",
       "                                 Pipeline(steps=[(&#x27;NumImpute&#x27;,\n",
       "                                                  SimpleImputer(strategy=&#x27;median&#x27;)),\n",
       "                                                 (&#x27;numStd&#x27;, StandardScaler())]),\n",
       "                                 [&#x27;age&#x27;, &#x27;fare&#x27;, &#x27;parch&#x27;, &#x27;sibsp&#x27;]),\n",
       "                                (&#x27;catPipe&#x27;,\n",
       "                                 Pipeline(steps=[(&#x27;CatImpute&#x27;,\n",
       "                                                  SimpleImputer(strategy=&#x27;most_frequent&#x27;)),\n",
       "                                                 (&#x27;Catohe&#x27;,\n",
       "                                                  OneHotEncoder(drop=&#x27;first&#x27;))]),\n",
       "                                 [&#x27;pclass&#x27;, &#x27;sex&#x27;, &#x27;embarked&#x27;])])</pre></div></div></div><div class=\"sk-parallel\"><div class=\"sk-parallel-item\"><div class=\"sk-item\"><div class=\"sk-label-container\"><div class=\"sk-label sk-toggleable\"><input class=\"sk-toggleable__control sk-hidden--visually\" id=\"sk-estimator-id-4\" type=\"checkbox\" ><label for=\"sk-estimator-id-4\" class=\"sk-toggleable__label sk-toggleable__label-arrow\">numPipe</label><div class=\"sk-toggleable__content\"><pre>[&#x27;age&#x27;, &#x27;fare&#x27;, &#x27;parch&#x27;, &#x27;sibsp&#x27;]</pre></div></div></div><div class=\"sk-serial\"><div class=\"sk-item\"><div class=\"sk-serial\"><div class=\"sk-item\"><div class=\"sk-estimator sk-toggleable\"><input class=\"sk-toggleable__control sk-hidden--visually\" id=\"sk-estimator-id-5\" type=\"checkbox\" ><label for=\"sk-estimator-id-5\" class=\"sk-toggleable__label sk-toggleable__label-arrow\">SimpleImputer</label><div class=\"sk-toggleable__content\"><pre>SimpleImputer(strategy=&#x27;median&#x27;)</pre></div></div></div><div class=\"sk-item\"><div class=\"sk-estimator sk-toggleable\"><input class=\"sk-toggleable__control sk-hidden--visually\" id=\"sk-estimator-id-6\" type=\"checkbox\" ><label for=\"sk-estimator-id-6\" class=\"sk-toggleable__label sk-toggleable__label-arrow\">StandardScaler</label><div class=\"sk-toggleable__content\"><pre>StandardScaler()</pre></div></div></div></div></div></div></div></div><div class=\"sk-parallel-item\"><div class=\"sk-item\"><div class=\"sk-label-container\"><div class=\"sk-label sk-toggleable\"><input class=\"sk-toggleable__control sk-hidden--visually\" id=\"sk-estimator-id-7\" type=\"checkbox\" ><label for=\"sk-estimator-id-7\" class=\"sk-toggleable__label sk-toggleable__label-arrow\">catPipe</label><div class=\"sk-toggleable__content\"><pre>[&#x27;pclass&#x27;, &#x27;sex&#x27;, &#x27;embarked&#x27;]</pre></div></div></div><div class=\"sk-serial\"><div class=\"sk-item\"><div class=\"sk-serial\"><div class=\"sk-item\"><div class=\"sk-estimator sk-toggleable\"><input class=\"sk-toggleable__control sk-hidden--visually\" id=\"sk-estimator-id-8\" type=\"checkbox\" ><label for=\"sk-estimator-id-8\" class=\"sk-toggleable__label sk-toggleable__label-arrow\">SimpleImputer</label><div class=\"sk-toggleable__content\"><pre>SimpleImputer(strategy=&#x27;most_frequent&#x27;)</pre></div></div></div><div class=\"sk-item\"><div class=\"sk-estimator sk-toggleable\"><input class=\"sk-toggleable__control sk-hidden--visually\" id=\"sk-estimator-id-9\" type=\"checkbox\" ><label for=\"sk-estimator-id-9\" class=\"sk-toggleable__label sk-toggleable__label-arrow\">OneHotEncoder</label><div class=\"sk-toggleable__content\"><pre>OneHotEncoder(drop=&#x27;first&#x27;)</pre></div></div></div></div></div></div></div></div></div></div><div class=\"sk-item\"><div class=\"sk-estimator sk-toggleable\"><input class=\"sk-toggleable__control sk-hidden--visually\" id=\"sk-estimator-id-10\" type=\"checkbox\" ><label for=\"sk-estimator-id-10\" class=\"sk-toggleable__label sk-toggleable__label-arrow\">LogisticRegression</label><div class=\"sk-toggleable__content\"><pre>LogisticRegression()</pre></div></div></div></div></div></div></div></div></div></div></div></div>"
      ],
      "text/plain": [
       "GridSearchCV(cv=10,\n",
       "             estimator=Pipeline(steps=[('processData',\n",
       "                                        ColumnTransformer(transformers=[('numPipe',\n",
       "                                                                         Pipeline(steps=[('NumImpute',\n",
       "                                                                                          SimpleImputer(strategy='median')),\n",
       "                                                                                         ('numStd',\n",
       "                                                                                          StandardScaler())]),\n",
       "                                                                         ['age',\n",
       "                                                                          'fare',\n",
       "                                                                          'parch',\n",
       "                                                                          'sibsp']),\n",
       "                                                                        ('catPipe',\n",
       "                                                                         Pipeline(steps=[('CatImpute',\n",
       "                                                                                          SimpleImputer(strategy='most_frequent')),\n",
       "                                                                                         ('Catohe',\n",
       "                                                                                          OneHotEncoder(drop='first'))]),\n",
       "                                                                         ['pclass',\n",
       "                                                                          'sex',\n",
       "                                                                          'embarked'])])),\n",
       "                                       ('trn', LogisticRegression())]),\n",
       "             param_grid={'trn__C': [0.001, 0.01, 0.1, 1, 10, 100, 1000],\n",
       "                         'trn__penalty': ['l1', 'l2']})"
      ]
     },
     "execution_count": 16,
     "metadata": {},
     "output_type": "execute_result"
    }
   ],
   "source": [
    "grid_log.fit(X_train, y_train)"
   ]
  },
  {
   "cell_type": "code",
   "execution_count": 17,
   "id": "60f96c2b",
   "metadata": {},
   "outputs": [],
   "source": [
    "bestmodellog = grid_log.best_estimator_"
   ]
  },
  {
   "cell_type": "code",
   "execution_count": 18,
   "id": "a7bda380",
   "metadata": {},
   "outputs": [
    {
     "name": "stdout",
     "output_type": "stream",
     "text": [
      "Logistic Regression best estimator accuracy on testing data: 0.7786259541984732\n",
      "Logistic Regression best estimator mean cv score: 0.7955402930402931\n"
     ]
    }
   ],
   "source": [
    "print(\"Logistic Regression best estimator accuracy on testing data:\",grid_log.best_estimator_.score(X_test, y_test))\n",
    "print(\"Logistic Regression best estimator mean cv score:\",grid_log.best_score_)\n",
    "\n"
   ]
  },
  {
   "cell_type": "code",
   "execution_count": null,
   "id": "1c82780d",
   "metadata": {},
   "outputs": [],
   "source": [
    "#Using gridsearch cv best estimator, mean cv scores improves to 0.7955 from intial model cv score of 0.745"
   ]
  },
  {
   "cell_type": "code",
   "execution_count": 21,
   "id": "5f9108cc",
   "metadata": {},
   "outputs": [],
   "source": [
    "#DTC\n",
    "finalPipeTree = Pipeline(\n",
    "steps =[('processData',processData),('decMod',DecisionTreeClassifier())])"
   ]
  },
  {
   "cell_type": "code",
   "execution_count": 22,
   "id": "7b872ee9",
   "metadata": {},
   "outputs": [
    {
     "data": {
      "text/plain": [
       "0.7219201409277745"
      ]
     },
     "execution_count": 22,
     "metadata": {},
     "output_type": "execute_result"
    }
   ],
   "source": [
    "modLogdt =cross_val_score(finalPipeTree,X,y,cv=10,scoring='accuracy')\n",
    "modLogdt.mean()"
   ]
  },
  {
   "cell_type": "code",
   "execution_count": 23,
   "id": "2eb10d2e",
   "metadata": {},
   "outputs": [
    {
     "data": {
      "text/plain": [
       "0.7442748091603053"
      ]
     },
     "execution_count": 23,
     "metadata": {},
     "output_type": "execute_result"
    }
   ],
   "source": [
    "finalPipeTree.fit(X_train,y_train).score(X_test,y_test)"
   ]
  },
  {
   "cell_type": "code",
   "execution_count": 24,
   "id": "dd53db42",
   "metadata": {},
   "outputs": [],
   "source": [
    "#gridsearchcv- DTC\n",
    "param_grid_dt = {\n",
    "    'decMod__max_depth': [3, 5, 7, 10],\n",
    "    'decMod__min_samples_split': [2, 5, 10]\n",
    "}"
   ]
  },
  {
   "cell_type": "code",
   "execution_count": 25,
   "id": "1306d496",
   "metadata": {},
   "outputs": [],
   "source": [
    "grid_dt = GridSearchCV(finalPipeTree, param_grid=param_grid_dt, cv=10)\n"
   ]
  },
  {
   "cell_type": "code",
   "execution_count": 26,
   "id": "bde27147",
   "metadata": {},
   "outputs": [
    {
     "data": {
      "text/html": [
       "<style>#sk-container-id-2 {color: black;background-color: white;}#sk-container-id-2 pre{padding: 0;}#sk-container-id-2 div.sk-toggleable {background-color: white;}#sk-container-id-2 label.sk-toggleable__label {cursor: pointer;display: block;width: 100%;margin-bottom: 0;padding: 0.3em;box-sizing: border-box;text-align: center;}#sk-container-id-2 label.sk-toggleable__label-arrow:before {content: \"▸\";float: left;margin-right: 0.25em;color: #696969;}#sk-container-id-2 label.sk-toggleable__label-arrow:hover:before {color: black;}#sk-container-id-2 div.sk-estimator:hover label.sk-toggleable__label-arrow:before {color: black;}#sk-container-id-2 div.sk-toggleable__content {max-height: 0;max-width: 0;overflow: hidden;text-align: left;background-color: #f0f8ff;}#sk-container-id-2 div.sk-toggleable__content pre {margin: 0.2em;color: black;border-radius: 0.25em;background-color: #f0f8ff;}#sk-container-id-2 input.sk-toggleable__control:checked~div.sk-toggleable__content {max-height: 200px;max-width: 100%;overflow: auto;}#sk-container-id-2 input.sk-toggleable__control:checked~label.sk-toggleable__label-arrow:before {content: \"▾\";}#sk-container-id-2 div.sk-estimator input.sk-toggleable__control:checked~label.sk-toggleable__label {background-color: #d4ebff;}#sk-container-id-2 div.sk-label input.sk-toggleable__control:checked~label.sk-toggleable__label {background-color: #d4ebff;}#sk-container-id-2 input.sk-hidden--visually {border: 0;clip: rect(1px 1px 1px 1px);clip: rect(1px, 1px, 1px, 1px);height: 1px;margin: -1px;overflow: hidden;padding: 0;position: absolute;width: 1px;}#sk-container-id-2 div.sk-estimator {font-family: monospace;background-color: #f0f8ff;border: 1px dotted black;border-radius: 0.25em;box-sizing: border-box;margin-bottom: 0.5em;}#sk-container-id-2 div.sk-estimator:hover {background-color: #d4ebff;}#sk-container-id-2 div.sk-parallel-item::after {content: \"\";width: 100%;border-bottom: 1px solid gray;flex-grow: 1;}#sk-container-id-2 div.sk-label:hover label.sk-toggleable__label {background-color: #d4ebff;}#sk-container-id-2 div.sk-serial::before {content: \"\";position: absolute;border-left: 1px solid gray;box-sizing: border-box;top: 0;bottom: 0;left: 50%;z-index: 0;}#sk-container-id-2 div.sk-serial {display: flex;flex-direction: column;align-items: center;background-color: white;padding-right: 0.2em;padding-left: 0.2em;position: relative;}#sk-container-id-2 div.sk-item {position: relative;z-index: 1;}#sk-container-id-2 div.sk-parallel {display: flex;align-items: stretch;justify-content: center;background-color: white;position: relative;}#sk-container-id-2 div.sk-item::before, #sk-container-id-2 div.sk-parallel-item::before {content: \"\";position: absolute;border-left: 1px solid gray;box-sizing: border-box;top: 0;bottom: 0;left: 50%;z-index: -1;}#sk-container-id-2 div.sk-parallel-item {display: flex;flex-direction: column;z-index: 1;position: relative;background-color: white;}#sk-container-id-2 div.sk-parallel-item:first-child::after {align-self: flex-end;width: 50%;}#sk-container-id-2 div.sk-parallel-item:last-child::after {align-self: flex-start;width: 50%;}#sk-container-id-2 div.sk-parallel-item:only-child::after {width: 0;}#sk-container-id-2 div.sk-dashed-wrapped {border: 1px dashed gray;margin: 0 0.4em 0.5em 0.4em;box-sizing: border-box;padding-bottom: 0.4em;background-color: white;}#sk-container-id-2 div.sk-label label {font-family: monospace;font-weight: bold;display: inline-block;line-height: 1.2em;}#sk-container-id-2 div.sk-label-container {text-align: center;}#sk-container-id-2 div.sk-container {/* jupyter's `normalize.less` sets `[hidden] { display: none; }` but bootstrap.min.css set `[hidden] { display: none !important; }` so we also need the `!important` here to be able to override the default hidden behavior on the sphinx rendered scikit-learn.org. See: https://github.com/scikit-learn/scikit-learn/issues/21755 */display: inline-block !important;position: relative;}#sk-container-id-2 div.sk-text-repr-fallback {display: none;}</style><div id=\"sk-container-id-2\" class=\"sk-top-container\"><div class=\"sk-text-repr-fallback\"><pre>GridSearchCV(cv=10,\n",
       "             estimator=Pipeline(steps=[(&#x27;processData&#x27;,\n",
       "                                        ColumnTransformer(transformers=[(&#x27;numPipe&#x27;,\n",
       "                                                                         Pipeline(steps=[(&#x27;NumImpute&#x27;,\n",
       "                                                                                          SimpleImputer(strategy=&#x27;median&#x27;)),\n",
       "                                                                                         (&#x27;numStd&#x27;,\n",
       "                                                                                          StandardScaler())]),\n",
       "                                                                         [&#x27;age&#x27;,\n",
       "                                                                          &#x27;fare&#x27;,\n",
       "                                                                          &#x27;parch&#x27;,\n",
       "                                                                          &#x27;sibsp&#x27;]),\n",
       "                                                                        (&#x27;catPipe&#x27;,\n",
       "                                                                         Pipeline(steps=[(&#x27;CatImpute&#x27;,\n",
       "                                                                                          SimpleImputer(strategy=&#x27;most_frequent&#x27;)),\n",
       "                                                                                         (&#x27;Catohe&#x27;,\n",
       "                                                                                          OneHotEncoder(drop=&#x27;first&#x27;))]),\n",
       "                                                                         [&#x27;pclass&#x27;,\n",
       "                                                                          &#x27;sex&#x27;,\n",
       "                                                                          &#x27;embarked&#x27;])])),\n",
       "                                       (&#x27;decMod&#x27;, DecisionTreeClassifier())]),\n",
       "             param_grid={&#x27;decMod__max_depth&#x27;: [3, 5, 7, 10],\n",
       "                         &#x27;decMod__min_samples_split&#x27;: [2, 5, 10]})</pre><b>In a Jupyter environment, please rerun this cell to show the HTML representation or trust the notebook. <br />On GitHub, the HTML representation is unable to render, please try loading this page with nbviewer.org.</b></div><div class=\"sk-container\" hidden><div class=\"sk-item sk-dashed-wrapped\"><div class=\"sk-label-container\"><div class=\"sk-label sk-toggleable\"><input class=\"sk-toggleable__control sk-hidden--visually\" id=\"sk-estimator-id-11\" type=\"checkbox\" ><label for=\"sk-estimator-id-11\" class=\"sk-toggleable__label sk-toggleable__label-arrow\">GridSearchCV</label><div class=\"sk-toggleable__content\"><pre>GridSearchCV(cv=10,\n",
       "             estimator=Pipeline(steps=[(&#x27;processData&#x27;,\n",
       "                                        ColumnTransformer(transformers=[(&#x27;numPipe&#x27;,\n",
       "                                                                         Pipeline(steps=[(&#x27;NumImpute&#x27;,\n",
       "                                                                                          SimpleImputer(strategy=&#x27;median&#x27;)),\n",
       "                                                                                         (&#x27;numStd&#x27;,\n",
       "                                                                                          StandardScaler())]),\n",
       "                                                                         [&#x27;age&#x27;,\n",
       "                                                                          &#x27;fare&#x27;,\n",
       "                                                                          &#x27;parch&#x27;,\n",
       "                                                                          &#x27;sibsp&#x27;]),\n",
       "                                                                        (&#x27;catPipe&#x27;,\n",
       "                                                                         Pipeline(steps=[(&#x27;CatImpute&#x27;,\n",
       "                                                                                          SimpleImputer(strategy=&#x27;most_frequent&#x27;)),\n",
       "                                                                                         (&#x27;Catohe&#x27;,\n",
       "                                                                                          OneHotEncoder(drop=&#x27;first&#x27;))]),\n",
       "                                                                         [&#x27;pclass&#x27;,\n",
       "                                                                          &#x27;sex&#x27;,\n",
       "                                                                          &#x27;embarked&#x27;])])),\n",
       "                                       (&#x27;decMod&#x27;, DecisionTreeClassifier())]),\n",
       "             param_grid={&#x27;decMod__max_depth&#x27;: [3, 5, 7, 10],\n",
       "                         &#x27;decMod__min_samples_split&#x27;: [2, 5, 10]})</pre></div></div></div><div class=\"sk-parallel\"><div class=\"sk-parallel-item\"><div class=\"sk-item\"><div class=\"sk-label-container\"><div class=\"sk-label sk-toggleable\"><input class=\"sk-toggleable__control sk-hidden--visually\" id=\"sk-estimator-id-12\" type=\"checkbox\" ><label for=\"sk-estimator-id-12\" class=\"sk-toggleable__label sk-toggleable__label-arrow\">estimator: Pipeline</label><div class=\"sk-toggleable__content\"><pre>Pipeline(steps=[(&#x27;processData&#x27;,\n",
       "                 ColumnTransformer(transformers=[(&#x27;numPipe&#x27;,\n",
       "                                                  Pipeline(steps=[(&#x27;NumImpute&#x27;,\n",
       "                                                                   SimpleImputer(strategy=&#x27;median&#x27;)),\n",
       "                                                                  (&#x27;numStd&#x27;,\n",
       "                                                                   StandardScaler())]),\n",
       "                                                  [&#x27;age&#x27;, &#x27;fare&#x27;, &#x27;parch&#x27;,\n",
       "                                                   &#x27;sibsp&#x27;]),\n",
       "                                                 (&#x27;catPipe&#x27;,\n",
       "                                                  Pipeline(steps=[(&#x27;CatImpute&#x27;,\n",
       "                                                                   SimpleImputer(strategy=&#x27;most_frequent&#x27;)),\n",
       "                                                                  (&#x27;Catohe&#x27;,\n",
       "                                                                   OneHotEncoder(drop=&#x27;first&#x27;))]),\n",
       "                                                  [&#x27;pclass&#x27;, &#x27;sex&#x27;,\n",
       "                                                   &#x27;embarked&#x27;])])),\n",
       "                (&#x27;decMod&#x27;, DecisionTreeClassifier())])</pre></div></div></div><div class=\"sk-serial\"><div class=\"sk-item\"><div class=\"sk-serial\"><div class=\"sk-item sk-dashed-wrapped\"><div class=\"sk-label-container\"><div class=\"sk-label sk-toggleable\"><input class=\"sk-toggleable__control sk-hidden--visually\" id=\"sk-estimator-id-13\" type=\"checkbox\" ><label for=\"sk-estimator-id-13\" class=\"sk-toggleable__label sk-toggleable__label-arrow\">processData: ColumnTransformer</label><div class=\"sk-toggleable__content\"><pre>ColumnTransformer(transformers=[(&#x27;numPipe&#x27;,\n",
       "                                 Pipeline(steps=[(&#x27;NumImpute&#x27;,\n",
       "                                                  SimpleImputer(strategy=&#x27;median&#x27;)),\n",
       "                                                 (&#x27;numStd&#x27;, StandardScaler())]),\n",
       "                                 [&#x27;age&#x27;, &#x27;fare&#x27;, &#x27;parch&#x27;, &#x27;sibsp&#x27;]),\n",
       "                                (&#x27;catPipe&#x27;,\n",
       "                                 Pipeline(steps=[(&#x27;CatImpute&#x27;,\n",
       "                                                  SimpleImputer(strategy=&#x27;most_frequent&#x27;)),\n",
       "                                                 (&#x27;Catohe&#x27;,\n",
       "                                                  OneHotEncoder(drop=&#x27;first&#x27;))]),\n",
       "                                 [&#x27;pclass&#x27;, &#x27;sex&#x27;, &#x27;embarked&#x27;])])</pre></div></div></div><div class=\"sk-parallel\"><div class=\"sk-parallel-item\"><div class=\"sk-item\"><div class=\"sk-label-container\"><div class=\"sk-label sk-toggleable\"><input class=\"sk-toggleable__control sk-hidden--visually\" id=\"sk-estimator-id-14\" type=\"checkbox\" ><label for=\"sk-estimator-id-14\" class=\"sk-toggleable__label sk-toggleable__label-arrow\">numPipe</label><div class=\"sk-toggleable__content\"><pre>[&#x27;age&#x27;, &#x27;fare&#x27;, &#x27;parch&#x27;, &#x27;sibsp&#x27;]</pre></div></div></div><div class=\"sk-serial\"><div class=\"sk-item\"><div class=\"sk-serial\"><div class=\"sk-item\"><div class=\"sk-estimator sk-toggleable\"><input class=\"sk-toggleable__control sk-hidden--visually\" id=\"sk-estimator-id-15\" type=\"checkbox\" ><label for=\"sk-estimator-id-15\" class=\"sk-toggleable__label sk-toggleable__label-arrow\">SimpleImputer</label><div class=\"sk-toggleable__content\"><pre>SimpleImputer(strategy=&#x27;median&#x27;)</pre></div></div></div><div class=\"sk-item\"><div class=\"sk-estimator sk-toggleable\"><input class=\"sk-toggleable__control sk-hidden--visually\" id=\"sk-estimator-id-16\" type=\"checkbox\" ><label for=\"sk-estimator-id-16\" class=\"sk-toggleable__label sk-toggleable__label-arrow\">StandardScaler</label><div class=\"sk-toggleable__content\"><pre>StandardScaler()</pre></div></div></div></div></div></div></div></div><div class=\"sk-parallel-item\"><div class=\"sk-item\"><div class=\"sk-label-container\"><div class=\"sk-label sk-toggleable\"><input class=\"sk-toggleable__control sk-hidden--visually\" id=\"sk-estimator-id-17\" type=\"checkbox\" ><label for=\"sk-estimator-id-17\" class=\"sk-toggleable__label sk-toggleable__label-arrow\">catPipe</label><div class=\"sk-toggleable__content\"><pre>[&#x27;pclass&#x27;, &#x27;sex&#x27;, &#x27;embarked&#x27;]</pre></div></div></div><div class=\"sk-serial\"><div class=\"sk-item\"><div class=\"sk-serial\"><div class=\"sk-item\"><div class=\"sk-estimator sk-toggleable\"><input class=\"sk-toggleable__control sk-hidden--visually\" id=\"sk-estimator-id-18\" type=\"checkbox\" ><label for=\"sk-estimator-id-18\" class=\"sk-toggleable__label sk-toggleable__label-arrow\">SimpleImputer</label><div class=\"sk-toggleable__content\"><pre>SimpleImputer(strategy=&#x27;most_frequent&#x27;)</pre></div></div></div><div class=\"sk-item\"><div class=\"sk-estimator sk-toggleable\"><input class=\"sk-toggleable__control sk-hidden--visually\" id=\"sk-estimator-id-19\" type=\"checkbox\" ><label for=\"sk-estimator-id-19\" class=\"sk-toggleable__label sk-toggleable__label-arrow\">OneHotEncoder</label><div class=\"sk-toggleable__content\"><pre>OneHotEncoder(drop=&#x27;first&#x27;)</pre></div></div></div></div></div></div></div></div></div></div><div class=\"sk-item\"><div class=\"sk-estimator sk-toggleable\"><input class=\"sk-toggleable__control sk-hidden--visually\" id=\"sk-estimator-id-20\" type=\"checkbox\" ><label for=\"sk-estimator-id-20\" class=\"sk-toggleable__label sk-toggleable__label-arrow\">DecisionTreeClassifier</label><div class=\"sk-toggleable__content\"><pre>DecisionTreeClassifier()</pre></div></div></div></div></div></div></div></div></div></div></div></div>"
      ],
      "text/plain": [
       "GridSearchCV(cv=10,\n",
       "             estimator=Pipeline(steps=[('processData',\n",
       "                                        ColumnTransformer(transformers=[('numPipe',\n",
       "                                                                         Pipeline(steps=[('NumImpute',\n",
       "                                                                                          SimpleImputer(strategy='median')),\n",
       "                                                                                         ('numStd',\n",
       "                                                                                          StandardScaler())]),\n",
       "                                                                         ['age',\n",
       "                                                                          'fare',\n",
       "                                                                          'parch',\n",
       "                                                                          'sibsp']),\n",
       "                                                                        ('catPipe',\n",
       "                                                                         Pipeline(steps=[('CatImpute',\n",
       "                                                                                          SimpleImputer(strategy='most_frequent')),\n",
       "                                                                                         ('Catohe',\n",
       "                                                                                          OneHotEncoder(drop='first'))]),\n",
       "                                                                         ['pclass',\n",
       "                                                                          'sex',\n",
       "                                                                          'embarked'])])),\n",
       "                                       ('decMod', DecisionTreeClassifier())]),\n",
       "             param_grid={'decMod__max_depth': [3, 5, 7, 10],\n",
       "                         'decMod__min_samples_split': [2, 5, 10]})"
      ]
     },
     "execution_count": 26,
     "metadata": {},
     "output_type": "execute_result"
    }
   ],
   "source": [
    "grid_dt.fit(X_train, y_train)"
   ]
  },
  {
   "cell_type": "code",
   "execution_count": 27,
   "id": "a0ac7d31",
   "metadata": {},
   "outputs": [
    {
     "name": "stdout",
     "output_type": "stream",
     "text": [
      "Best estimator for Decision Tree: Pipeline(steps=[('processData',\n",
      "                 ColumnTransformer(transformers=[('numPipe',\n",
      "                                                  Pipeline(steps=[('NumImpute',\n",
      "                                                                   SimpleImputer(strategy='median')),\n",
      "                                                                  ('numStd',\n",
      "                                                                   StandardScaler())]),\n",
      "                                                  ['age', 'fare', 'parch',\n",
      "                                                   'sibsp']),\n",
      "                                                 ('catPipe',\n",
      "                                                  Pipeline(steps=[('CatImpute',\n",
      "                                                                   SimpleImputer(strategy='most_frequent')),\n",
      "                                                                  ('Catohe',\n",
      "                                                                   OneHotEncoder(drop='first'))]),\n",
      "                                                  ['pclass', 'sex',\n",
      "                                                   'embarked'])])),\n",
      "                ('decMod', DecisionTreeClassifier(max_depth=3))])\n"
     ]
    }
   ],
   "source": [
    "print(\"Best estimator for Decision Tree:\", grid_dt.best_estimator_)"
   ]
  },
  {
   "cell_type": "code",
   "execution_count": 28,
   "id": "a8713a09",
   "metadata": {},
   "outputs": [],
   "source": [
    "bestmodeldtc = grid_dt.best_estimator_"
   ]
  },
  {
   "cell_type": "code",
   "execution_count": 29,
   "id": "3e48ad6a",
   "metadata": {},
   "outputs": [
    {
     "name": "stdout",
     "output_type": "stream",
     "text": [
      "Decision Tree best estimator accuracy on testing data: 0.7786259541984732\n",
      "Decision Tree best estimator mean cv score: 0.824102564102564\n"
     ]
    }
   ],
   "source": [
    "# Evaluate the best estimator on the testing data\n",
    "print(\"Decision Tree best estimator accuracy on testing data:\", grid_dt.best_estimator_.score(X_test, y_test))\n",
    "print(\"Decision Tree best estimator mean cv score:\", grid_dt.best_score_)\n"
   ]
  },
  {
   "cell_type": "code",
   "execution_count": null,
   "id": "ba7604fa",
   "metadata": {},
   "outputs": [],
   "source": [
    "#Similarly, dtc best estimator using gridsearch cv shows a higher mean cv score than the intial dt hyperparameters"
   ]
  },
  {
   "cell_type": "code",
   "execution_count": 30,
   "id": "7db152f0",
   "metadata": {},
   "outputs": [],
   "source": [
    "#RFC\n",
    "rndf = RandomForestClassifier()\n",
    "finalRFC = Pipeline(steps = [('processData',processData),('RFC',rndf)])\n"
   ]
  },
  {
   "cell_type": "code",
   "execution_count": 32,
   "id": "68cd9d13",
   "metadata": {},
   "outputs": [
    {
     "data": {
      "text/plain": [
       "0.8129770992366412"
      ]
     },
     "execution_count": 32,
     "metadata": {},
     "output_type": "execute_result"
    }
   ],
   "source": [
    "finalRFC.fit(X_train,y_train).score(X_test,y_test)"
   ]
  },
  {
   "cell_type": "code",
   "execution_count": 33,
   "id": "28d0acdb",
   "metadata": {},
   "outputs": [
    {
     "data": {
      "text/plain": [
       "0.7539812096300647"
      ]
     },
     "execution_count": 33,
     "metadata": {},
     "output_type": "execute_result"
    }
   ],
   "source": [
    "modrndf =cross_val_score(finalRFC,X,y,cv=10,scoring='accuracy')\n",
    "modrndf.mean()"
   ]
  },
  {
   "cell_type": "code",
   "execution_count": 34,
   "id": "040116fb",
   "metadata": {},
   "outputs": [],
   "source": [
    "bestmodelrfc=finalRFC"
   ]
  },
  {
   "cell_type": "code",
   "execution_count": 35,
   "id": "878fa283",
   "metadata": {},
   "outputs": [],
   "source": [
    "finalPipeSVM = Pipeline(steps =[('processData', processData),('SVM', SVC())])"
   ]
  },
  {
   "cell_type": "code",
   "execution_count": 36,
   "id": "0ff05771",
   "metadata": {},
   "outputs": [
    {
     "data": {
      "text/plain": [
       "0.7748091603053435"
      ]
     },
     "execution_count": 36,
     "metadata": {},
     "output_type": "execute_result"
    }
   ],
   "source": [
    "finalPipeSVM.fit(X_train,y_train).score(X_test,y_test)"
   ]
  },
  {
   "cell_type": "code",
   "execution_count": 37,
   "id": "5305b677",
   "metadata": {},
   "outputs": [
    {
     "data": {
      "text/plain": [
       "0.7463711098062242"
      ]
     },
     "execution_count": 37,
     "metadata": {},
     "output_type": "execute_result"
    }
   ],
   "source": [
    "modsvm=cross_val_score(finalPipeSVM,X,y,cv=10,scoring='accuracy')\n",
    "modsvm.mean()"
   ]
  },
  {
   "cell_type": "code",
   "execution_count": 46,
   "id": "48ae62e8",
   "metadata": {},
   "outputs": [],
   "source": [
    "#GridSearchCV is taking too much time to complete,\n",
    "#we can try using RandomizedSearchCV instead. RandomizedSearchCV randomly samples a subset of the hyperparameter space and evaluates the performance of each sampled combination. \n",
    "#This approach can be much faster than GridSearchCV, especially when the hyperparameter space is large."
   ]
  },
  {
   "cell_type": "code",
   "execution_count": 38,
   "id": "f758c753",
   "metadata": {},
   "outputs": [],
   "source": [
    "param_distributions_svm = {\n",
    "    'SVM__C': uniform(loc=0, scale=100),\n",
    "    'SVM__kernel': ['linear', 'rbf', 'sigmoid'],\n",
    "    'SVM__gamma': ['scale', 'auto', 0.1, 0.01, 0.001],\n",
    "    'SVM__degree': [2, 3, 4, 5],\n",
    "    'SVM__coef0': uniform(loc=0, scale=1)\n",
    "}"
   ]
  },
  {
   "cell_type": "code",
   "execution_count": 39,
   "id": "fc89cea8",
   "metadata": {},
   "outputs": [],
   "source": [
    "random_search_svm = RandomizedSearchCV(finalPipeSVM, param_distributions=param_distributions_svm, cv=10, n_iter=100)\n"
   ]
  },
  {
   "cell_type": "code",
   "execution_count": 40,
   "id": "505676c2",
   "metadata": {},
   "outputs": [
    {
     "data": {
      "text/html": [
       "<style>#sk-container-id-3 {color: black;background-color: white;}#sk-container-id-3 pre{padding: 0;}#sk-container-id-3 div.sk-toggleable {background-color: white;}#sk-container-id-3 label.sk-toggleable__label {cursor: pointer;display: block;width: 100%;margin-bottom: 0;padding: 0.3em;box-sizing: border-box;text-align: center;}#sk-container-id-3 label.sk-toggleable__label-arrow:before {content: \"▸\";float: left;margin-right: 0.25em;color: #696969;}#sk-container-id-3 label.sk-toggleable__label-arrow:hover:before {color: black;}#sk-container-id-3 div.sk-estimator:hover label.sk-toggleable__label-arrow:before {color: black;}#sk-container-id-3 div.sk-toggleable__content {max-height: 0;max-width: 0;overflow: hidden;text-align: left;background-color: #f0f8ff;}#sk-container-id-3 div.sk-toggleable__content pre {margin: 0.2em;color: black;border-radius: 0.25em;background-color: #f0f8ff;}#sk-container-id-3 input.sk-toggleable__control:checked~div.sk-toggleable__content {max-height: 200px;max-width: 100%;overflow: auto;}#sk-container-id-3 input.sk-toggleable__control:checked~label.sk-toggleable__label-arrow:before {content: \"▾\";}#sk-container-id-3 div.sk-estimator input.sk-toggleable__control:checked~label.sk-toggleable__label {background-color: #d4ebff;}#sk-container-id-3 div.sk-label input.sk-toggleable__control:checked~label.sk-toggleable__label {background-color: #d4ebff;}#sk-container-id-3 input.sk-hidden--visually {border: 0;clip: rect(1px 1px 1px 1px);clip: rect(1px, 1px, 1px, 1px);height: 1px;margin: -1px;overflow: hidden;padding: 0;position: absolute;width: 1px;}#sk-container-id-3 div.sk-estimator {font-family: monospace;background-color: #f0f8ff;border: 1px dotted black;border-radius: 0.25em;box-sizing: border-box;margin-bottom: 0.5em;}#sk-container-id-3 div.sk-estimator:hover {background-color: #d4ebff;}#sk-container-id-3 div.sk-parallel-item::after {content: \"\";width: 100%;border-bottom: 1px solid gray;flex-grow: 1;}#sk-container-id-3 div.sk-label:hover label.sk-toggleable__label {background-color: #d4ebff;}#sk-container-id-3 div.sk-serial::before {content: \"\";position: absolute;border-left: 1px solid gray;box-sizing: border-box;top: 0;bottom: 0;left: 50%;z-index: 0;}#sk-container-id-3 div.sk-serial {display: flex;flex-direction: column;align-items: center;background-color: white;padding-right: 0.2em;padding-left: 0.2em;position: relative;}#sk-container-id-3 div.sk-item {position: relative;z-index: 1;}#sk-container-id-3 div.sk-parallel {display: flex;align-items: stretch;justify-content: center;background-color: white;position: relative;}#sk-container-id-3 div.sk-item::before, #sk-container-id-3 div.sk-parallel-item::before {content: \"\";position: absolute;border-left: 1px solid gray;box-sizing: border-box;top: 0;bottom: 0;left: 50%;z-index: -1;}#sk-container-id-3 div.sk-parallel-item {display: flex;flex-direction: column;z-index: 1;position: relative;background-color: white;}#sk-container-id-3 div.sk-parallel-item:first-child::after {align-self: flex-end;width: 50%;}#sk-container-id-3 div.sk-parallel-item:last-child::after {align-self: flex-start;width: 50%;}#sk-container-id-3 div.sk-parallel-item:only-child::after {width: 0;}#sk-container-id-3 div.sk-dashed-wrapped {border: 1px dashed gray;margin: 0 0.4em 0.5em 0.4em;box-sizing: border-box;padding-bottom: 0.4em;background-color: white;}#sk-container-id-3 div.sk-label label {font-family: monospace;font-weight: bold;display: inline-block;line-height: 1.2em;}#sk-container-id-3 div.sk-label-container {text-align: center;}#sk-container-id-3 div.sk-container {/* jupyter's `normalize.less` sets `[hidden] { display: none; }` but bootstrap.min.css set `[hidden] { display: none !important; }` so we also need the `!important` here to be able to override the default hidden behavior on the sphinx rendered scikit-learn.org. See: https://github.com/scikit-learn/scikit-learn/issues/21755 */display: inline-block !important;position: relative;}#sk-container-id-3 div.sk-text-repr-fallback {display: none;}</style><div id=\"sk-container-id-3\" class=\"sk-top-container\"><div class=\"sk-text-repr-fallback\"><pre>RandomizedSearchCV(cv=10,\n",
       "                   estimator=Pipeline(steps=[(&#x27;processData&#x27;,\n",
       "                                              ColumnTransformer(transformers=[(&#x27;numPipe&#x27;,\n",
       "                                                                               Pipeline(steps=[(&#x27;NumImpute&#x27;,\n",
       "                                                                                                SimpleImputer(strategy=&#x27;median&#x27;)),\n",
       "                                                                                               (&#x27;numStd&#x27;,\n",
       "                                                                                                StandardScaler())]),\n",
       "                                                                               [&#x27;age&#x27;,\n",
       "                                                                                &#x27;fare&#x27;,\n",
       "                                                                                &#x27;parch&#x27;,\n",
       "                                                                                &#x27;sibsp&#x27;]),\n",
       "                                                                              (&#x27;catPipe&#x27;,\n",
       "                                                                               Pipeline(steps=[(&#x27;CatImpute&#x27;,\n",
       "                                                                                                SimpleImputer(strategy=&#x27;most_frequent&#x27;)),\n",
       "                                                                                               (&#x27;Catohe&#x27;,\n",
       "                                                                                                OneHotEncoder(drop=&#x27;first...\n",
       "                                                                                &#x27;embarked&#x27;])])),\n",
       "                                             (&#x27;SVM&#x27;, SVC())]),\n",
       "                   n_iter=100,\n",
       "                   param_distributions={&#x27;SVM__C&#x27;: &lt;scipy.stats._distn_infrastructure.rv_continuous_frozen object at 0x0000025DD49D9400&gt;,\n",
       "                                        &#x27;SVM__coef0&#x27;: &lt;scipy.stats._distn_infrastructure.rv_continuous_frozen object at 0x0000025DD51B78B0&gt;,\n",
       "                                        &#x27;SVM__degree&#x27;: [2, 3, 4, 5],\n",
       "                                        &#x27;SVM__gamma&#x27;: [&#x27;scale&#x27;, &#x27;auto&#x27;, 0.1,\n",
       "                                                       0.01, 0.001],\n",
       "                                        &#x27;SVM__kernel&#x27;: [&#x27;linear&#x27;, &#x27;rbf&#x27;,\n",
       "                                                        &#x27;sigmoid&#x27;]})</pre><b>In a Jupyter environment, please rerun this cell to show the HTML representation or trust the notebook. <br />On GitHub, the HTML representation is unable to render, please try loading this page with nbviewer.org.</b></div><div class=\"sk-container\" hidden><div class=\"sk-item sk-dashed-wrapped\"><div class=\"sk-label-container\"><div class=\"sk-label sk-toggleable\"><input class=\"sk-toggleable__control sk-hidden--visually\" id=\"sk-estimator-id-21\" type=\"checkbox\" ><label for=\"sk-estimator-id-21\" class=\"sk-toggleable__label sk-toggleable__label-arrow\">RandomizedSearchCV</label><div class=\"sk-toggleable__content\"><pre>RandomizedSearchCV(cv=10,\n",
       "                   estimator=Pipeline(steps=[(&#x27;processData&#x27;,\n",
       "                                              ColumnTransformer(transformers=[(&#x27;numPipe&#x27;,\n",
       "                                                                               Pipeline(steps=[(&#x27;NumImpute&#x27;,\n",
       "                                                                                                SimpleImputer(strategy=&#x27;median&#x27;)),\n",
       "                                                                                               (&#x27;numStd&#x27;,\n",
       "                                                                                                StandardScaler())]),\n",
       "                                                                               [&#x27;age&#x27;,\n",
       "                                                                                &#x27;fare&#x27;,\n",
       "                                                                                &#x27;parch&#x27;,\n",
       "                                                                                &#x27;sibsp&#x27;]),\n",
       "                                                                              (&#x27;catPipe&#x27;,\n",
       "                                                                               Pipeline(steps=[(&#x27;CatImpute&#x27;,\n",
       "                                                                                                SimpleImputer(strategy=&#x27;most_frequent&#x27;)),\n",
       "                                                                                               (&#x27;Catohe&#x27;,\n",
       "                                                                                                OneHotEncoder(drop=&#x27;first...\n",
       "                                                                                &#x27;embarked&#x27;])])),\n",
       "                                             (&#x27;SVM&#x27;, SVC())]),\n",
       "                   n_iter=100,\n",
       "                   param_distributions={&#x27;SVM__C&#x27;: &lt;scipy.stats._distn_infrastructure.rv_continuous_frozen object at 0x0000025DD49D9400&gt;,\n",
       "                                        &#x27;SVM__coef0&#x27;: &lt;scipy.stats._distn_infrastructure.rv_continuous_frozen object at 0x0000025DD51B78B0&gt;,\n",
       "                                        &#x27;SVM__degree&#x27;: [2, 3, 4, 5],\n",
       "                                        &#x27;SVM__gamma&#x27;: [&#x27;scale&#x27;, &#x27;auto&#x27;, 0.1,\n",
       "                                                       0.01, 0.001],\n",
       "                                        &#x27;SVM__kernel&#x27;: [&#x27;linear&#x27;, &#x27;rbf&#x27;,\n",
       "                                                        &#x27;sigmoid&#x27;]})</pre></div></div></div><div class=\"sk-parallel\"><div class=\"sk-parallel-item\"><div class=\"sk-item\"><div class=\"sk-label-container\"><div class=\"sk-label sk-toggleable\"><input class=\"sk-toggleable__control sk-hidden--visually\" id=\"sk-estimator-id-22\" type=\"checkbox\" ><label for=\"sk-estimator-id-22\" class=\"sk-toggleable__label sk-toggleable__label-arrow\">estimator: Pipeline</label><div class=\"sk-toggleable__content\"><pre>Pipeline(steps=[(&#x27;processData&#x27;,\n",
       "                 ColumnTransformer(transformers=[(&#x27;numPipe&#x27;,\n",
       "                                                  Pipeline(steps=[(&#x27;NumImpute&#x27;,\n",
       "                                                                   SimpleImputer(strategy=&#x27;median&#x27;)),\n",
       "                                                                  (&#x27;numStd&#x27;,\n",
       "                                                                   StandardScaler())]),\n",
       "                                                  [&#x27;age&#x27;, &#x27;fare&#x27;, &#x27;parch&#x27;,\n",
       "                                                   &#x27;sibsp&#x27;]),\n",
       "                                                 (&#x27;catPipe&#x27;,\n",
       "                                                  Pipeline(steps=[(&#x27;CatImpute&#x27;,\n",
       "                                                                   SimpleImputer(strategy=&#x27;most_frequent&#x27;)),\n",
       "                                                                  (&#x27;Catohe&#x27;,\n",
       "                                                                   OneHotEncoder(drop=&#x27;first&#x27;))]),\n",
       "                                                  [&#x27;pclass&#x27;, &#x27;sex&#x27;,\n",
       "                                                   &#x27;embarked&#x27;])])),\n",
       "                (&#x27;SVM&#x27;, SVC())])</pre></div></div></div><div class=\"sk-serial\"><div class=\"sk-item\"><div class=\"sk-serial\"><div class=\"sk-item sk-dashed-wrapped\"><div class=\"sk-label-container\"><div class=\"sk-label sk-toggleable\"><input class=\"sk-toggleable__control sk-hidden--visually\" id=\"sk-estimator-id-23\" type=\"checkbox\" ><label for=\"sk-estimator-id-23\" class=\"sk-toggleable__label sk-toggleable__label-arrow\">processData: ColumnTransformer</label><div class=\"sk-toggleable__content\"><pre>ColumnTransformer(transformers=[(&#x27;numPipe&#x27;,\n",
       "                                 Pipeline(steps=[(&#x27;NumImpute&#x27;,\n",
       "                                                  SimpleImputer(strategy=&#x27;median&#x27;)),\n",
       "                                                 (&#x27;numStd&#x27;, StandardScaler())]),\n",
       "                                 [&#x27;age&#x27;, &#x27;fare&#x27;, &#x27;parch&#x27;, &#x27;sibsp&#x27;]),\n",
       "                                (&#x27;catPipe&#x27;,\n",
       "                                 Pipeline(steps=[(&#x27;CatImpute&#x27;,\n",
       "                                                  SimpleImputer(strategy=&#x27;most_frequent&#x27;)),\n",
       "                                                 (&#x27;Catohe&#x27;,\n",
       "                                                  OneHotEncoder(drop=&#x27;first&#x27;))]),\n",
       "                                 [&#x27;pclass&#x27;, &#x27;sex&#x27;, &#x27;embarked&#x27;])])</pre></div></div></div><div class=\"sk-parallel\"><div class=\"sk-parallel-item\"><div class=\"sk-item\"><div class=\"sk-label-container\"><div class=\"sk-label sk-toggleable\"><input class=\"sk-toggleable__control sk-hidden--visually\" id=\"sk-estimator-id-24\" type=\"checkbox\" ><label for=\"sk-estimator-id-24\" class=\"sk-toggleable__label sk-toggleable__label-arrow\">numPipe</label><div class=\"sk-toggleable__content\"><pre>[&#x27;age&#x27;, &#x27;fare&#x27;, &#x27;parch&#x27;, &#x27;sibsp&#x27;]</pre></div></div></div><div class=\"sk-serial\"><div class=\"sk-item\"><div class=\"sk-serial\"><div class=\"sk-item\"><div class=\"sk-estimator sk-toggleable\"><input class=\"sk-toggleable__control sk-hidden--visually\" id=\"sk-estimator-id-25\" type=\"checkbox\" ><label for=\"sk-estimator-id-25\" class=\"sk-toggleable__label sk-toggleable__label-arrow\">SimpleImputer</label><div class=\"sk-toggleable__content\"><pre>SimpleImputer(strategy=&#x27;median&#x27;)</pre></div></div></div><div class=\"sk-item\"><div class=\"sk-estimator sk-toggleable\"><input class=\"sk-toggleable__control sk-hidden--visually\" id=\"sk-estimator-id-26\" type=\"checkbox\" ><label for=\"sk-estimator-id-26\" class=\"sk-toggleable__label sk-toggleable__label-arrow\">StandardScaler</label><div class=\"sk-toggleable__content\"><pre>StandardScaler()</pre></div></div></div></div></div></div></div></div><div class=\"sk-parallel-item\"><div class=\"sk-item\"><div class=\"sk-label-container\"><div class=\"sk-label sk-toggleable\"><input class=\"sk-toggleable__control sk-hidden--visually\" id=\"sk-estimator-id-27\" type=\"checkbox\" ><label for=\"sk-estimator-id-27\" class=\"sk-toggleable__label sk-toggleable__label-arrow\">catPipe</label><div class=\"sk-toggleable__content\"><pre>[&#x27;pclass&#x27;, &#x27;sex&#x27;, &#x27;embarked&#x27;]</pre></div></div></div><div class=\"sk-serial\"><div class=\"sk-item\"><div class=\"sk-serial\"><div class=\"sk-item\"><div class=\"sk-estimator sk-toggleable\"><input class=\"sk-toggleable__control sk-hidden--visually\" id=\"sk-estimator-id-28\" type=\"checkbox\" ><label for=\"sk-estimator-id-28\" class=\"sk-toggleable__label sk-toggleable__label-arrow\">SimpleImputer</label><div class=\"sk-toggleable__content\"><pre>SimpleImputer(strategy=&#x27;most_frequent&#x27;)</pre></div></div></div><div class=\"sk-item\"><div class=\"sk-estimator sk-toggleable\"><input class=\"sk-toggleable__control sk-hidden--visually\" id=\"sk-estimator-id-29\" type=\"checkbox\" ><label for=\"sk-estimator-id-29\" class=\"sk-toggleable__label sk-toggleable__label-arrow\">OneHotEncoder</label><div class=\"sk-toggleable__content\"><pre>OneHotEncoder(drop=&#x27;first&#x27;)</pre></div></div></div></div></div></div></div></div></div></div><div class=\"sk-item\"><div class=\"sk-estimator sk-toggleable\"><input class=\"sk-toggleable__control sk-hidden--visually\" id=\"sk-estimator-id-30\" type=\"checkbox\" ><label for=\"sk-estimator-id-30\" class=\"sk-toggleable__label sk-toggleable__label-arrow\">SVC</label><div class=\"sk-toggleable__content\"><pre>SVC()</pre></div></div></div></div></div></div></div></div></div></div></div></div>"
      ],
      "text/plain": [
       "RandomizedSearchCV(cv=10,\n",
       "                   estimator=Pipeline(steps=[('processData',\n",
       "                                              ColumnTransformer(transformers=[('numPipe',\n",
       "                                                                               Pipeline(steps=[('NumImpute',\n",
       "                                                                                                SimpleImputer(strategy='median')),\n",
       "                                                                                               ('numStd',\n",
       "                                                                                                StandardScaler())]),\n",
       "                                                                               ['age',\n",
       "                                                                                'fare',\n",
       "                                                                                'parch',\n",
       "                                                                                'sibsp']),\n",
       "                                                                              ('catPipe',\n",
       "                                                                               Pipeline(steps=[('CatImpute',\n",
       "                                                                                                SimpleImputer(strategy='most_frequent')),\n",
       "                                                                                               ('Catohe',\n",
       "                                                                                                OneHotEncoder(drop='first...\n",
       "                                                                                'embarked'])])),\n",
       "                                             ('SVM', SVC())]),\n",
       "                   n_iter=100,\n",
       "                   param_distributions={'SVM__C': <scipy.stats._distn_infrastructure.rv_continuous_frozen object at 0x0000025DD49D9400>,\n",
       "                                        'SVM__coef0': <scipy.stats._distn_infrastructure.rv_continuous_frozen object at 0x0000025DD51B78B0>,\n",
       "                                        'SVM__degree': [2, 3, 4, 5],\n",
       "                                        'SVM__gamma': ['scale', 'auto', 0.1,\n",
       "                                                       0.01, 0.001],\n",
       "                                        'SVM__kernel': ['linear', 'rbf',\n",
       "                                                        'sigmoid']})"
      ]
     },
     "execution_count": 40,
     "metadata": {},
     "output_type": "execute_result"
    }
   ],
   "source": [
    "random_search_svm.fit(X_train, y_train)\n"
   ]
  },
  {
   "cell_type": "code",
   "execution_count": 41,
   "id": "c4fcbc99",
   "metadata": {},
   "outputs": [
    {
     "name": "stdout",
     "output_type": "stream",
     "text": [
      "Best estimator for SVM: Pipeline(steps=[('processData',\n",
      "                 ColumnTransformer(transformers=[('numPipe',\n",
      "                                                  Pipeline(steps=[('NumImpute',\n",
      "                                                                   SimpleImputer(strategy='median')),\n",
      "                                                                  ('numStd',\n",
      "                                                                   StandardScaler())]),\n",
      "                                                  ['age', 'fare', 'parch',\n",
      "                                                   'sibsp']),\n",
      "                                                 ('catPipe',\n",
      "                                                  Pipeline(steps=[('CatImpute',\n",
      "                                                                   SimpleImputer(strategy='most_frequent')),\n",
      "                                                                  ('Catohe',\n",
      "                                                                   OneHotEncoder(drop='first'))]),\n",
      "                                                  ['pclass', 'sex',\n",
      "                                                   'embarked'])])),\n",
      "                ('SVM',\n",
      "                 SVC(C=89.34791136292681, coef0=0.7918370333013337,\n",
      "                     gamma=0.01))])\n"
     ]
    }
   ],
   "source": [
    "print(\"Best estimator for SVM:\", random_search_svm.best_estimator_)\n"
   ]
  },
  {
   "cell_type": "code",
   "execution_count": 42,
   "id": "13f8f3ae",
   "metadata": {},
   "outputs": [
    {
     "name": "stdout",
     "output_type": "stream",
     "text": [
      "SVM best estimator score: 0.7862595419847328\n",
      "SVM best estimator mean cv score: 0.8183974358974359\n"
     ]
    }
   ],
   "source": [
    "print(\"SVM best estimator score:\",random_search_svm.best_estimator_.score(X_test, y_test))\n",
    "print(\"SVM best estimator mean cv score:\",random_search_svm.best_score_)\n",
    "\n",
    "#Improved hyperparameters of svm model built using randomsearch helped in increasing the accuracy to 0.82 compared to the initial model"
   ]
  },
  {
   "cell_type": "code",
   "execution_count": 43,
   "id": "9999a7fc",
   "metadata": {},
   "outputs": [],
   "source": [
    "bestmodelsvm=random_search_svm.best_estimator_"
   ]
  },
  {
   "cell_type": "code",
   "execution_count": 44,
   "id": "0caa933c",
   "metadata": {},
   "outputs": [],
   "source": [
    "#KNN estimator\n",
    "finalPipekNN = Pipeline(\n",
    "    steps =[('processData',processData),('KNN',KNeighborsClassifier())]\n",
    ")\n"
   ]
  },
  {
   "cell_type": "code",
   "execution_count": 45,
   "id": "a7b29982",
   "metadata": {},
   "outputs": [
    {
     "data": {
      "text/plain": [
       "0.7519083969465649"
      ]
     },
     "execution_count": 45,
     "metadata": {},
     "output_type": "execute_result"
    }
   ],
   "source": [
    "finalPipekNN.fit(X_train,y_train).score(X_test,y_test)"
   ]
  },
  {
   "cell_type": "code",
   "execution_count": 46,
   "id": "51483fde",
   "metadata": {},
   "outputs": [
    {
     "data": {
      "text/plain": [
       "0.7272753963593658"
      ]
     },
     "execution_count": 46,
     "metadata": {},
     "output_type": "execute_result"
    }
   ],
   "source": [
    "modkNNAcc =cross_val_score(finalPipekNN,X,y,cv=10,scoring='accuracy')\n",
    "modkNNAcc.mean()"
   ]
  },
  {
   "cell_type": "code",
   "execution_count": 47,
   "id": "9cbcddc7",
   "metadata": {},
   "outputs": [],
   "source": [
    "paramskNN = {\n",
    "    'KNN__n_neighbors': [3, 5, 7, 9, 11],\n",
    "    'KNN__weights': ['uniform', 'distance'],\n",
    "    'KNN__p': [1, 2, 3]\n",
    "}\n"
   ]
  },
  {
   "cell_type": "code",
   "execution_count": 48,
   "id": "ec2f601f",
   "metadata": {},
   "outputs": [],
   "source": [
    "grid_searchkNN = GridSearchCV(finalPipekNN, param_grid=paramskNN, cv=10, n_jobs=-1)\n"
   ]
  },
  {
   "cell_type": "code",
   "execution_count": 49,
   "id": "d421616a",
   "metadata": {},
   "outputs": [
    {
     "data": {
      "text/html": [
       "<style>#sk-container-id-4 {color: black;background-color: white;}#sk-container-id-4 pre{padding: 0;}#sk-container-id-4 div.sk-toggleable {background-color: white;}#sk-container-id-4 label.sk-toggleable__label {cursor: pointer;display: block;width: 100%;margin-bottom: 0;padding: 0.3em;box-sizing: border-box;text-align: center;}#sk-container-id-4 label.sk-toggleable__label-arrow:before {content: \"▸\";float: left;margin-right: 0.25em;color: #696969;}#sk-container-id-4 label.sk-toggleable__label-arrow:hover:before {color: black;}#sk-container-id-4 div.sk-estimator:hover label.sk-toggleable__label-arrow:before {color: black;}#sk-container-id-4 div.sk-toggleable__content {max-height: 0;max-width: 0;overflow: hidden;text-align: left;background-color: #f0f8ff;}#sk-container-id-4 div.sk-toggleable__content pre {margin: 0.2em;color: black;border-radius: 0.25em;background-color: #f0f8ff;}#sk-container-id-4 input.sk-toggleable__control:checked~div.sk-toggleable__content {max-height: 200px;max-width: 100%;overflow: auto;}#sk-container-id-4 input.sk-toggleable__control:checked~label.sk-toggleable__label-arrow:before {content: \"▾\";}#sk-container-id-4 div.sk-estimator input.sk-toggleable__control:checked~label.sk-toggleable__label {background-color: #d4ebff;}#sk-container-id-4 div.sk-label input.sk-toggleable__control:checked~label.sk-toggleable__label {background-color: #d4ebff;}#sk-container-id-4 input.sk-hidden--visually {border: 0;clip: rect(1px 1px 1px 1px);clip: rect(1px, 1px, 1px, 1px);height: 1px;margin: -1px;overflow: hidden;padding: 0;position: absolute;width: 1px;}#sk-container-id-4 div.sk-estimator {font-family: monospace;background-color: #f0f8ff;border: 1px dotted black;border-radius: 0.25em;box-sizing: border-box;margin-bottom: 0.5em;}#sk-container-id-4 div.sk-estimator:hover {background-color: #d4ebff;}#sk-container-id-4 div.sk-parallel-item::after {content: \"\";width: 100%;border-bottom: 1px solid gray;flex-grow: 1;}#sk-container-id-4 div.sk-label:hover label.sk-toggleable__label {background-color: #d4ebff;}#sk-container-id-4 div.sk-serial::before {content: \"\";position: absolute;border-left: 1px solid gray;box-sizing: border-box;top: 0;bottom: 0;left: 50%;z-index: 0;}#sk-container-id-4 div.sk-serial {display: flex;flex-direction: column;align-items: center;background-color: white;padding-right: 0.2em;padding-left: 0.2em;position: relative;}#sk-container-id-4 div.sk-item {position: relative;z-index: 1;}#sk-container-id-4 div.sk-parallel {display: flex;align-items: stretch;justify-content: center;background-color: white;position: relative;}#sk-container-id-4 div.sk-item::before, #sk-container-id-4 div.sk-parallel-item::before {content: \"\";position: absolute;border-left: 1px solid gray;box-sizing: border-box;top: 0;bottom: 0;left: 50%;z-index: -1;}#sk-container-id-4 div.sk-parallel-item {display: flex;flex-direction: column;z-index: 1;position: relative;background-color: white;}#sk-container-id-4 div.sk-parallel-item:first-child::after {align-self: flex-end;width: 50%;}#sk-container-id-4 div.sk-parallel-item:last-child::after {align-self: flex-start;width: 50%;}#sk-container-id-4 div.sk-parallel-item:only-child::after {width: 0;}#sk-container-id-4 div.sk-dashed-wrapped {border: 1px dashed gray;margin: 0 0.4em 0.5em 0.4em;box-sizing: border-box;padding-bottom: 0.4em;background-color: white;}#sk-container-id-4 div.sk-label label {font-family: monospace;font-weight: bold;display: inline-block;line-height: 1.2em;}#sk-container-id-4 div.sk-label-container {text-align: center;}#sk-container-id-4 div.sk-container {/* jupyter's `normalize.less` sets `[hidden] { display: none; }` but bootstrap.min.css set `[hidden] { display: none !important; }` so we also need the `!important` here to be able to override the default hidden behavior on the sphinx rendered scikit-learn.org. See: https://github.com/scikit-learn/scikit-learn/issues/21755 */display: inline-block !important;position: relative;}#sk-container-id-4 div.sk-text-repr-fallback {display: none;}</style><div id=\"sk-container-id-4\" class=\"sk-top-container\"><div class=\"sk-text-repr-fallback\"><pre>GridSearchCV(cv=10,\n",
       "             estimator=Pipeline(steps=[(&#x27;processData&#x27;,\n",
       "                                        ColumnTransformer(transformers=[(&#x27;numPipe&#x27;,\n",
       "                                                                         Pipeline(steps=[(&#x27;NumImpute&#x27;,\n",
       "                                                                                          SimpleImputer(strategy=&#x27;median&#x27;)),\n",
       "                                                                                         (&#x27;numStd&#x27;,\n",
       "                                                                                          StandardScaler())]),\n",
       "                                                                         [&#x27;age&#x27;,\n",
       "                                                                          &#x27;fare&#x27;,\n",
       "                                                                          &#x27;parch&#x27;,\n",
       "                                                                          &#x27;sibsp&#x27;]),\n",
       "                                                                        (&#x27;catPipe&#x27;,\n",
       "                                                                         Pipeline(steps=[(&#x27;CatImpute&#x27;,\n",
       "                                                                                          SimpleImputer(strategy=&#x27;most_frequent&#x27;)),\n",
       "                                                                                         (&#x27;Catohe&#x27;,\n",
       "                                                                                          OneHotEncoder(drop=&#x27;first&#x27;))]),\n",
       "                                                                         [&#x27;pclass&#x27;,\n",
       "                                                                          &#x27;sex&#x27;,\n",
       "                                                                          &#x27;embarked&#x27;])])),\n",
       "                                       (&#x27;KNN&#x27;, KNeighborsClassifier())]),\n",
       "             n_jobs=-1,\n",
       "             param_grid={&#x27;KNN__n_neighbors&#x27;: [3, 5, 7, 9, 11],\n",
       "                         &#x27;KNN__p&#x27;: [1, 2, 3],\n",
       "                         &#x27;KNN__weights&#x27;: [&#x27;uniform&#x27;, &#x27;distance&#x27;]})</pre><b>In a Jupyter environment, please rerun this cell to show the HTML representation or trust the notebook. <br />On GitHub, the HTML representation is unable to render, please try loading this page with nbviewer.org.</b></div><div class=\"sk-container\" hidden><div class=\"sk-item sk-dashed-wrapped\"><div class=\"sk-label-container\"><div class=\"sk-label sk-toggleable\"><input class=\"sk-toggleable__control sk-hidden--visually\" id=\"sk-estimator-id-31\" type=\"checkbox\" ><label for=\"sk-estimator-id-31\" class=\"sk-toggleable__label sk-toggleable__label-arrow\">GridSearchCV</label><div class=\"sk-toggleable__content\"><pre>GridSearchCV(cv=10,\n",
       "             estimator=Pipeline(steps=[(&#x27;processData&#x27;,\n",
       "                                        ColumnTransformer(transformers=[(&#x27;numPipe&#x27;,\n",
       "                                                                         Pipeline(steps=[(&#x27;NumImpute&#x27;,\n",
       "                                                                                          SimpleImputer(strategy=&#x27;median&#x27;)),\n",
       "                                                                                         (&#x27;numStd&#x27;,\n",
       "                                                                                          StandardScaler())]),\n",
       "                                                                         [&#x27;age&#x27;,\n",
       "                                                                          &#x27;fare&#x27;,\n",
       "                                                                          &#x27;parch&#x27;,\n",
       "                                                                          &#x27;sibsp&#x27;]),\n",
       "                                                                        (&#x27;catPipe&#x27;,\n",
       "                                                                         Pipeline(steps=[(&#x27;CatImpute&#x27;,\n",
       "                                                                                          SimpleImputer(strategy=&#x27;most_frequent&#x27;)),\n",
       "                                                                                         (&#x27;Catohe&#x27;,\n",
       "                                                                                          OneHotEncoder(drop=&#x27;first&#x27;))]),\n",
       "                                                                         [&#x27;pclass&#x27;,\n",
       "                                                                          &#x27;sex&#x27;,\n",
       "                                                                          &#x27;embarked&#x27;])])),\n",
       "                                       (&#x27;KNN&#x27;, KNeighborsClassifier())]),\n",
       "             n_jobs=-1,\n",
       "             param_grid={&#x27;KNN__n_neighbors&#x27;: [3, 5, 7, 9, 11],\n",
       "                         &#x27;KNN__p&#x27;: [1, 2, 3],\n",
       "                         &#x27;KNN__weights&#x27;: [&#x27;uniform&#x27;, &#x27;distance&#x27;]})</pre></div></div></div><div class=\"sk-parallel\"><div class=\"sk-parallel-item\"><div class=\"sk-item\"><div class=\"sk-label-container\"><div class=\"sk-label sk-toggleable\"><input class=\"sk-toggleable__control sk-hidden--visually\" id=\"sk-estimator-id-32\" type=\"checkbox\" ><label for=\"sk-estimator-id-32\" class=\"sk-toggleable__label sk-toggleable__label-arrow\">estimator: Pipeline</label><div class=\"sk-toggleable__content\"><pre>Pipeline(steps=[(&#x27;processData&#x27;,\n",
       "                 ColumnTransformer(transformers=[(&#x27;numPipe&#x27;,\n",
       "                                                  Pipeline(steps=[(&#x27;NumImpute&#x27;,\n",
       "                                                                   SimpleImputer(strategy=&#x27;median&#x27;)),\n",
       "                                                                  (&#x27;numStd&#x27;,\n",
       "                                                                   StandardScaler())]),\n",
       "                                                  [&#x27;age&#x27;, &#x27;fare&#x27;, &#x27;parch&#x27;,\n",
       "                                                   &#x27;sibsp&#x27;]),\n",
       "                                                 (&#x27;catPipe&#x27;,\n",
       "                                                  Pipeline(steps=[(&#x27;CatImpute&#x27;,\n",
       "                                                                   SimpleImputer(strategy=&#x27;most_frequent&#x27;)),\n",
       "                                                                  (&#x27;Catohe&#x27;,\n",
       "                                                                   OneHotEncoder(drop=&#x27;first&#x27;))]),\n",
       "                                                  [&#x27;pclass&#x27;, &#x27;sex&#x27;,\n",
       "                                                   &#x27;embarked&#x27;])])),\n",
       "                (&#x27;KNN&#x27;, KNeighborsClassifier())])</pre></div></div></div><div class=\"sk-serial\"><div class=\"sk-item\"><div class=\"sk-serial\"><div class=\"sk-item sk-dashed-wrapped\"><div class=\"sk-label-container\"><div class=\"sk-label sk-toggleable\"><input class=\"sk-toggleable__control sk-hidden--visually\" id=\"sk-estimator-id-33\" type=\"checkbox\" ><label for=\"sk-estimator-id-33\" class=\"sk-toggleable__label sk-toggleable__label-arrow\">processData: ColumnTransformer</label><div class=\"sk-toggleable__content\"><pre>ColumnTransformer(transformers=[(&#x27;numPipe&#x27;,\n",
       "                                 Pipeline(steps=[(&#x27;NumImpute&#x27;,\n",
       "                                                  SimpleImputer(strategy=&#x27;median&#x27;)),\n",
       "                                                 (&#x27;numStd&#x27;, StandardScaler())]),\n",
       "                                 [&#x27;age&#x27;, &#x27;fare&#x27;, &#x27;parch&#x27;, &#x27;sibsp&#x27;]),\n",
       "                                (&#x27;catPipe&#x27;,\n",
       "                                 Pipeline(steps=[(&#x27;CatImpute&#x27;,\n",
       "                                                  SimpleImputer(strategy=&#x27;most_frequent&#x27;)),\n",
       "                                                 (&#x27;Catohe&#x27;,\n",
       "                                                  OneHotEncoder(drop=&#x27;first&#x27;))]),\n",
       "                                 [&#x27;pclass&#x27;, &#x27;sex&#x27;, &#x27;embarked&#x27;])])</pre></div></div></div><div class=\"sk-parallel\"><div class=\"sk-parallel-item\"><div class=\"sk-item\"><div class=\"sk-label-container\"><div class=\"sk-label sk-toggleable\"><input class=\"sk-toggleable__control sk-hidden--visually\" id=\"sk-estimator-id-34\" type=\"checkbox\" ><label for=\"sk-estimator-id-34\" class=\"sk-toggleable__label sk-toggleable__label-arrow\">numPipe</label><div class=\"sk-toggleable__content\"><pre>[&#x27;age&#x27;, &#x27;fare&#x27;, &#x27;parch&#x27;, &#x27;sibsp&#x27;]</pre></div></div></div><div class=\"sk-serial\"><div class=\"sk-item\"><div class=\"sk-serial\"><div class=\"sk-item\"><div class=\"sk-estimator sk-toggleable\"><input class=\"sk-toggleable__control sk-hidden--visually\" id=\"sk-estimator-id-35\" type=\"checkbox\" ><label for=\"sk-estimator-id-35\" class=\"sk-toggleable__label sk-toggleable__label-arrow\">SimpleImputer</label><div class=\"sk-toggleable__content\"><pre>SimpleImputer(strategy=&#x27;median&#x27;)</pre></div></div></div><div class=\"sk-item\"><div class=\"sk-estimator sk-toggleable\"><input class=\"sk-toggleable__control sk-hidden--visually\" id=\"sk-estimator-id-36\" type=\"checkbox\" ><label for=\"sk-estimator-id-36\" class=\"sk-toggleable__label sk-toggleable__label-arrow\">StandardScaler</label><div class=\"sk-toggleable__content\"><pre>StandardScaler()</pre></div></div></div></div></div></div></div></div><div class=\"sk-parallel-item\"><div class=\"sk-item\"><div class=\"sk-label-container\"><div class=\"sk-label sk-toggleable\"><input class=\"sk-toggleable__control sk-hidden--visually\" id=\"sk-estimator-id-37\" type=\"checkbox\" ><label for=\"sk-estimator-id-37\" class=\"sk-toggleable__label sk-toggleable__label-arrow\">catPipe</label><div class=\"sk-toggleable__content\"><pre>[&#x27;pclass&#x27;, &#x27;sex&#x27;, &#x27;embarked&#x27;]</pre></div></div></div><div class=\"sk-serial\"><div class=\"sk-item\"><div class=\"sk-serial\"><div class=\"sk-item\"><div class=\"sk-estimator sk-toggleable\"><input class=\"sk-toggleable__control sk-hidden--visually\" id=\"sk-estimator-id-38\" type=\"checkbox\" ><label for=\"sk-estimator-id-38\" class=\"sk-toggleable__label sk-toggleable__label-arrow\">SimpleImputer</label><div class=\"sk-toggleable__content\"><pre>SimpleImputer(strategy=&#x27;most_frequent&#x27;)</pre></div></div></div><div class=\"sk-item\"><div class=\"sk-estimator sk-toggleable\"><input class=\"sk-toggleable__control sk-hidden--visually\" id=\"sk-estimator-id-39\" type=\"checkbox\" ><label for=\"sk-estimator-id-39\" class=\"sk-toggleable__label sk-toggleable__label-arrow\">OneHotEncoder</label><div class=\"sk-toggleable__content\"><pre>OneHotEncoder(drop=&#x27;first&#x27;)</pre></div></div></div></div></div></div></div></div></div></div><div class=\"sk-item\"><div class=\"sk-estimator sk-toggleable\"><input class=\"sk-toggleable__control sk-hidden--visually\" id=\"sk-estimator-id-40\" type=\"checkbox\" ><label for=\"sk-estimator-id-40\" class=\"sk-toggleable__label sk-toggleable__label-arrow\">KNeighborsClassifier</label><div class=\"sk-toggleable__content\"><pre>KNeighborsClassifier()</pre></div></div></div></div></div></div></div></div></div></div></div></div>"
      ],
      "text/plain": [
       "GridSearchCV(cv=10,\n",
       "             estimator=Pipeline(steps=[('processData',\n",
       "                                        ColumnTransformer(transformers=[('numPipe',\n",
       "                                                                         Pipeline(steps=[('NumImpute',\n",
       "                                                                                          SimpleImputer(strategy='median')),\n",
       "                                                                                         ('numStd',\n",
       "                                                                                          StandardScaler())]),\n",
       "                                                                         ['age',\n",
       "                                                                          'fare',\n",
       "                                                                          'parch',\n",
       "                                                                          'sibsp']),\n",
       "                                                                        ('catPipe',\n",
       "                                                                         Pipeline(steps=[('CatImpute',\n",
       "                                                                                          SimpleImputer(strategy='most_frequent')),\n",
       "                                                                                         ('Catohe',\n",
       "                                                                                          OneHotEncoder(drop='first'))]),\n",
       "                                                                         ['pclass',\n",
       "                                                                          'sex',\n",
       "                                                                          'embarked'])])),\n",
       "                                       ('KNN', KNeighborsClassifier())]),\n",
       "             n_jobs=-1,\n",
       "             param_grid={'KNN__n_neighbors': [3, 5, 7, 9, 11],\n",
       "                         'KNN__p': [1, 2, 3],\n",
       "                         'KNN__weights': ['uniform', 'distance']})"
      ]
     },
     "execution_count": 49,
     "metadata": {},
     "output_type": "execute_result"
    }
   ],
   "source": [
    "grid_searchkNN.fit(X_train,y_train)\n",
    "\n"
   ]
  },
  {
   "cell_type": "code",
   "execution_count": 50,
   "id": "c1275b48",
   "metadata": {},
   "outputs": [
    {
     "name": "stdout",
     "output_type": "stream",
     "text": [
      "Best estimator for KNN: Pipeline(steps=[('processData',\n",
      "                 ColumnTransformer(transformers=[('numPipe',\n",
      "                                                  Pipeline(steps=[('NumImpute',\n",
      "                                                                   SimpleImputer(strategy='median')),\n",
      "                                                                  ('numStd',\n",
      "                                                                   StandardScaler())]),\n",
      "                                                  ['age', 'fare', 'parch',\n",
      "                                                   'sibsp']),\n",
      "                                                 ('catPipe',\n",
      "                                                  Pipeline(steps=[('CatImpute',\n",
      "                                                                   SimpleImputer(strategy='most_frequent')),\n",
      "                                                                  ('Catohe',\n",
      "                                                                   OneHotEncoder(drop='first'))]),\n",
      "                                                  ['pclass', 'sex',\n",
      "                                                   'embarked'])])),\n",
      "                ('KNN', KNeighborsClassifier(n_neighbors=11, p=1))])\n"
     ]
    }
   ],
   "source": [
    "print(\"Best estimator for KNN:\",grid_searchkNN.best_estimator_)\n"
   ]
  },
  {
   "cell_type": "code",
   "execution_count": 51,
   "id": "77f96aca",
   "metadata": {},
   "outputs": [
    {
     "name": "stdout",
     "output_type": "stream",
     "text": [
      "KNN best estimator score: 0.7633587786259542\n",
      "KNN best estimator score: 0.8012820512820513\n"
     ]
    }
   ],
   "source": [
    "print(\"KNN best estimator score:\",grid_searchkNN.best_estimator_.score(X_test, y_test))\n",
    "print(\"KNN best estimator score:\",grid_searchkNN.best_score_)\n"
   ]
  },
  {
   "cell_type": "code",
   "execution_count": 53,
   "id": "80668207",
   "metadata": {},
   "outputs": [],
   "source": [
    "bestmodelknn = grid_searchkNN.best_estimator_"
   ]
  },
  {
   "cell_type": "markdown",
   "id": "43e59e84",
   "metadata": {},
   "source": [
    "# Voting Classifier"
   ]
  },
  {
   "cell_type": "code",
   "execution_count": 54,
   "id": "336c4eed",
   "metadata": {},
   "outputs": [
    {
     "name": "stdout",
     "output_type": "stream",
     "text": [
      "hard voting classifer accuracy score: 0.7900763358778626\n",
      "Logistic Regression votes: 253\n",
      "Decision Tree votes: 257\n",
      "KNN votes: 235\n",
      "Random Forest votes: 228\n",
      "SVM votes: 259\n"
     ]
    }
   ],
   "source": [
    "# voting classifier- manual\n",
    "\n",
    "from sklearn.ensemble import VotingClassifier\n",
    "\n",
    "estimatorsVC = [('log',bestmodellog), ('Dtc',bestmodeldtc), ('kNN',bestmodelknn), ('RFC',bestmodelrfc), ('SVM',bestmodelsvm)]\n",
    "hardvc = VotingClassifier(estimators = estimatorsVC, voting = 'hard')\n",
    "hardvc.fit(X_train, y_train)\n",
    "y_pred_hardvc = hardvc.predict(X_test)\n",
    "hard_acc = accuracy_score(y_test,y_pred_hardvc)\n",
    "print(\"hard voting classifer accuracy score:\",hard_acc)\n",
    "\n",
    "bestmodellog.fit(X_train, y_train)\n",
    "bestmodeldtc.fit(X_train, y_train)\n",
    "bestmodelknn.fit(X_train, y_train)\n",
    "bestmodelrfc.fit(X_train, y_train)\n",
    "bestmodelsvm.fit(X_train, y_train)\n",
    "\n",
    "\n",
    "\n",
    "\n",
    "logvote = sum(y_pred_hardvc == bestmodellog.predict(X_test))\n",
    "dtcvote = sum(y_pred_hardvc == bestmodeldtc.predict(X_test))\n",
    "knnvote = sum(y_pred_hardvc == bestmodelknn.predict(X_test))\n",
    "rfcvote = sum(y_pred_hardvc == bestmodelrfc.predict(X_test))\n",
    "svmvote = sum(y_pred_hardvc == bestmodelsvm.predict(X_test))\n",
    "\n",
    "\n",
    "\n",
    "## Note: Highest vote count will determine the final prediction.\n",
    "print('Logistic Regression votes:', logvote)\n",
    "print('Decision Tree votes:', dtcvote)\n",
    "print('KNN votes:', knnvote)\n",
    "print('Random Forest votes:', rfcvote)\n",
    "print('SVM votes:', svmvote)\n",
    "\n"
   ]
  },
  {
   "cell_type": "code",
   "execution_count": 55,
   "id": "a66acb69",
   "metadata": {},
   "outputs": [
    {
     "name": "stdout",
     "output_type": "stream",
     "text": [
      "STC with logit accuracy: 0.7709923664122137\n",
      "STC with decision tree accuracy: 0.7290076335877863\n",
      "STC with KNN accuracy: 0.7595419847328244\n"
     ]
    }
   ],
   "source": [
    "#Stacking classifier- using stackingclassifier function\n",
    "estimators = [('log',bestmodellog), ('Dtc',bestmodeldtc), ('kNN',bestmodelknn), ('RFC',bestmodelrfc), ('SVM',bestmodelsvm)]\n",
    "\n",
    "finalSTCl = StackingClassifier(estimators = estimators, final_estimator = LogisticRegression())\n",
    "accSTCl =finalSTCl.fit(X_train,y_train).score(X_test,y_test)\n",
    "print(\"STC with logit accuracy:\",accSTCl)\n",
    "\n",
    "finalSTCdt = StackingClassifier(estimators = estimators, final_estimator =DecisionTreeClassifier())\n",
    "accSTCdt =finalSTCdt.fit(X_train,y_train).score(X_test,y_test)\n",
    "print(\"STC with decision tree accuracy:\",accSTCdt)\n",
    "\n",
    "finalSTCkNN = StackingClassifier(estimators = estimators, final_estimator =KNeighborsClassifier())\n",
    "accSTCkNN =finalSTCkNN.fit(X_train,y_train).score(X_test,y_test)\n",
    "print(\"STC with KNN accuracy:\",accSTCkNN)\n"
   ]
  },
  {
   "cell_type": "markdown",
   "id": "5eba37b3",
   "metadata": {},
   "source": [
    "## Stacking classifier-manual"
   ]
  },
  {
   "cell_type": "code",
   "execution_count": 57,
   "id": "8f92a483",
   "metadata": {},
   "outputs": [
    {
     "name": "stdout",
     "output_type": "stream",
     "text": [
      "Ensemble model accuracy with logit: 0.8206106870229007\n",
      "manual STC with logit: 0.8206106870229007\n"
     ]
    }
   ],
   "source": [
    "\n",
    "bestmodellog.fit(X_train, y_train)\n",
    "bestmodeldtc.fit(X_train, y_train)\n",
    "bestmodelknn.fit(X_train, y_train)\n",
    "bestmodelrfc.fit(X_train, y_train)\n",
    "bestmodelsvm.fit(X_train, y_train)\n",
    "\n",
    "# Make predictions on test data using base models\n",
    "log_preds = bestmodellog.predict(X_test)\n",
    "dtc_preds = bestmodeldtc.predict(X_test)\n",
    "knn_preds = bestmodelknn.predict(X_test)\n",
    "rfc_preds = bestmodelrfc.predict(X_test)\n",
    "svm_preds = bestmodelsvm.predict(X_test)\n",
    "\n",
    "# Create a matrix of predicted class labels for each base model\n",
    "pred_matrix = np.column_stack((log_preds, dtc_preds, knn_preds, rfc_preds, svm_preds))\n",
    "\n",
    "log_reg = LogisticRegression()\n",
    "log_reg.fit(pred_matrix, y_test)\n",
    "\n",
    "\n",
    "# Calculate accuracy of the ensemble model on the test data\n",
    "ensemble_preds = log_reg.predict(pred_matrix)\n",
    "acc_ensemble = np.mean(ensemble_preds == y_test)\n",
    "print(\"Ensemble model accuracy with logit:\", acc_ensemble)\n",
    "a = accuracy_score(ensemble_preds,y_test)\n",
    "print(\"manual STC with logit:\",a)\n",
    "\n",
    "\n",
    "\n"
   ]
  },
  {
   "cell_type": "code",
   "execution_count": 63,
   "id": "bfee8cc8",
   "metadata": {},
   "outputs": [
    {
     "name": "stdout",
     "output_type": "stream",
     "text": [
      "manual STC with DTC: 0.8206106870229007\n"
     ]
    }
   ],
   "source": [
    "STCdtc = DecisionTreeClassifier()\n",
    "STCdtc.fit(pred_matrix, y_test)\n",
    "\n",
    "\n",
    "ensemble_preds_dtc = STCdtc.predict(pred_matrix)\n",
    "adtc = accuracy_score(ensemble_preds_dtc,y_test)\n",
    "print(\"manual STC with DTC:\",adtc)"
   ]
  },
  {
   "cell_type": "code",
   "execution_count": 74,
   "id": "55c7e7cd",
   "metadata": {},
   "outputs": [
    {
     "name": "stdout",
     "output_type": "stream",
     "text": [
      "manual STC with kNN: 0.8091603053435115\n"
     ]
    }
   ],
   "source": [
    "STCKNN = KNeighborsClassifier()\n",
    "\n",
    "STCKNN.fit(pred_matrix, y_test)\n",
    "\n",
    "ensemble_preds_kNN = STCKNN.predict(pred_matrix)\n",
    "akNN = accuracy_score(ensemble_preds_kNN,y_test)\n",
    "print(\"manual STC with kNN:\",akNN)\n"
   ]
  },
  {
   "cell_type": "markdown",
   "id": "e8671c12",
   "metadata": {},
   "source": [
    "## Stacking classifier manual- alternate way"
   ]
  },
  {
   "cell_type": "code",
   "execution_count": 67,
   "id": "a74f2467",
   "metadata": {},
   "outputs": [
    {
     "name": "stdout",
     "output_type": "stream",
     "text": [
      "0.7900763358778626\n"
     ]
    }
   ],
   "source": [
    "\n",
    "# Predictions are made and combined using the base model\n",
    "\n",
    "train_predictions = [] \n",
    "\n",
    "# Variable \"train_predictions\" is created - It's an empty list that will store predictions of base models for testing set\n",
    "test_predictions = []\n",
    "\n",
    "# A loop is created for all 5 base models - Logistic Regression, Decision Tree Classifier, KNN, Random Forest and SVM \n",
    "for model in [bestmodellog, bestmodeldtc,bestmodelknn,bestmodelrfc, bestmodelsvm]:\n",
    "    model.fit(X_train, y_train) # Each model is fit on training data\n",
    "    \n",
    "    train_predictions.append(model.predict(X_train)) # Predictions are made for training data and stored in variable 'train_predictions' list\n",
    "    test_predictions.append(model.predict(X_test)) # Predictions are made for testing data and stored in variable 'test_predictions' list\n",
    "    \n",
    "    \n",
    "# All predictions of base models for training data are compiled horizontally in a list\n",
    "train_stacked = np.column_stack(train_predictions)\n",
    "\n",
    "# All predictions of base models for testing data are compiled horizontally in a list\n",
    "test_stacked = np.column_stack(test_predictions)\n",
    "\n",
    "# Meta models\n",
    "\n",
    "\n",
    "mmodelknn =  KNeighborsClassifier()\n",
    "\n",
    "\n",
    "\n",
    "# Meta model fit on stacked features and then predictions are made using meta model for testing data \n",
    "mmodell = LogisticRegression()\n",
    "mmodell.fit(train_stacked, y_train)\n",
    "y_predl = mmodell.predict(test_stacked)\n",
    "\n",
    "\n",
    "# Accuracy score of stacking classifier\n",
    "stacking_accl = accuracy_score(y_test, y_predl)\n",
    "print(stacking_accl)\n",
    "\n",
    "\n",
    "\n",
    "\n",
    "\n",
    "\n",
    "\n"
   ]
  },
  {
   "cell_type": "code",
   "execution_count": 71,
   "id": "b25bfa6f",
   "metadata": {},
   "outputs": [
    {
     "name": "stdout",
     "output_type": "stream",
     "text": [
      "0.7977099236641222\n"
     ]
    }
   ],
   "source": [
    "mmodeldtc = DecisionTreeClassifier()\n",
    "mmodeldtc.fit(train_stacked, y_train)\n",
    "y_preddtc = mmodeldtc.predict(test_stacked)\n",
    "\n",
    "stacking_accdtc = accuracy_score(y_test, y_preddtc)\n",
    "print(stacking_accdtc)\n"
   ]
  },
  {
   "cell_type": "code",
   "execution_count": 72,
   "id": "c7ec39d8",
   "metadata": {},
   "outputs": [
    {
     "name": "stdout",
     "output_type": "stream",
     "text": [
      "0.7938931297709924\n"
     ]
    }
   ],
   "source": [
    "mmodelknn.fit(train_stacked, y_train)\n",
    "y_predknn = mmodelknn.predict(test_stacked)\n",
    "\n",
    "stacking_accknn = accuracy_score(y_test, y_predknn)\n",
    "print(stacking_accknn)"
   ]
  },
  {
   "cell_type": "code",
   "execution_count": null,
   "id": "230bbd97",
   "metadata": {},
   "outputs": [],
   "source": []
  },
  {
   "cell_type": "code",
   "execution_count": null,
   "id": "dcf16ca1",
   "metadata": {},
   "outputs": [],
   "source": []
  },
  {
   "cell_type": "code",
   "execution_count": null,
   "id": "71539dc2",
   "metadata": {},
   "outputs": [],
   "source": []
  }
 ],
 "metadata": {
  "kernelspec": {
   "display_name": "Python 3 (ipykernel)",
   "language": "python",
   "name": "python3"
  },
  "language_info": {
   "codemirror_mode": {
    "name": "ipython",
    "version": 3
   },
   "file_extension": ".py",
   "mimetype": "text/x-python",
   "name": "python",
   "nbconvert_exporter": "python",
   "pygments_lexer": "ipython3",
   "version": "3.8.16"
  }
 },
 "nbformat": 4,
 "nbformat_minor": 5
}
